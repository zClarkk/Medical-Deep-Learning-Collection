{
  "cells": [
    {
      "cell_type": "markdown",
      "metadata": {
        "id": "view-in-github",
        "colab_type": "text"
      },
      "source": [
        "<a href=\"https://colab.research.google.com/github/zClarkk/Medical-Deep-Learning-Collection/blob/main/ECG_Classification_ResNet_LSTM.ipynb\" target=\"_parent\"><img src=\"https://colab.research.google.com/assets/colab-badge.svg\" alt=\"Open In Colab\"/></a>"
      ]
    },
    {
      "cell_type": "markdown",
      "metadata": {
        "id": "A4ZR-gga246T"
      },
      "source": [
        "# Exercise 1: ECG Classification with ResNet and LSTM"
      ]
    },
    {
      "cell_type": "markdown",
      "metadata": {
        "id": "bkt6rNUYUfez"
      },
      "source": [
        "The goal of this exercise is to classify (variable-length) ECG recordings of the PhysioNet/CinC Challenge into four rhythm classes:\n",
        "+ normal sinus rhythms (N)\n",
        "+ atrial fibrillation (AF)\n",
        "+ other rhythms (O)\n",
        "+ noise signals (∼).\n",
        "\n",
        "Therefore, we will investigate into a fully convolutional approach as well as an approach using LSTM-cells and compare their results. The bonus task will deal with the classification using transformers."
      ]
    },
    {
      "cell_type": "code",
      "source": [
        "pip install wget"
      ],
      "metadata": {
        "colab": {
          "base_uri": "https://localhost:8080/"
        },
        "id": "Ry4bEW6YgCiw",
        "outputId": "60e49945-a273-4798-ea2d-2a5f662c35eb"
      },
      "execution_count": null,
      "outputs": [
        {
          "output_type": "stream",
          "name": "stdout",
          "text": [
            "Looking in indexes: https://pypi.org/simple, https://us-python.pkg.dev/colab-wheels/public/simple/\n",
            "Collecting wget\n",
            "  Downloading wget-3.2.zip (10 kB)\n",
            "  Preparing metadata (setup.py) ... \u001b[?25l\u001b[?25hdone\n",
            "Building wheels for collected packages: wget\n",
            "  Building wheel for wget (setup.py) ... \u001b[?25l\u001b[?25hdone\n",
            "  Created wheel for wget: filename=wget-3.2-py3-none-any.whl size=9657 sha256=9b5a526f985d8055c4eb809226cb6e662f4ea33234eccdaa04f9f51dc943dac9\n",
            "  Stored in directory: /root/.cache/pip/wheels/8b/f1/7f/5c94f0a7a505ca1c81cd1d9208ae2064675d97582078e6c769\n",
            "Successfully built wget\n",
            "Installing collected packages: wget\n",
            "Successfully installed wget-3.2\n"
          ]
        }
      ]
    },
    {
      "cell_type": "code",
      "source": [
        "pip install torchmetrics"
      ],
      "metadata": {
        "colab": {
          "base_uri": "https://localhost:8080/"
        },
        "id": "QqX7ODFA2Hux",
        "outputId": "3f3fd17e-95c9-4c24-8144-f2303fd6c2c8"
      },
      "execution_count": null,
      "outputs": [
        {
          "output_type": "stream",
          "name": "stdout",
          "text": [
            "Looking in indexes: https://pypi.org/simple, https://us-python.pkg.dev/colab-wheels/public/simple/\n",
            "Collecting torchmetrics\n",
            "  Downloading torchmetrics-0.11.4-py3-none-any.whl (519 kB)\n",
            "\u001b[2K     \u001b[90m━━━━━━━━━━━━━━━━━━━━━━━━━━━━━━━━━━━━━━\u001b[0m \u001b[32m519.2/519.2 kB\u001b[0m \u001b[31m18.3 MB/s\u001b[0m eta \u001b[36m0:00:00\u001b[0m\n",
            "\u001b[?25hRequirement already satisfied: numpy>=1.17.2 in /usr/local/lib/python3.10/dist-packages (from torchmetrics) (1.22.4)\n",
            "Requirement already satisfied: torch>=1.8.1 in /usr/local/lib/python3.10/dist-packages (from torchmetrics) (2.0.1+cu118)\n",
            "Requirement already satisfied: packaging in /usr/local/lib/python3.10/dist-packages (from torchmetrics) (23.1)\n",
            "Requirement already satisfied: filelock in /usr/local/lib/python3.10/dist-packages (from torch>=1.8.1->torchmetrics) (3.12.0)\n",
            "Requirement already satisfied: typing-extensions in /usr/local/lib/python3.10/dist-packages (from torch>=1.8.1->torchmetrics) (4.5.0)\n",
            "Requirement already satisfied: sympy in /usr/local/lib/python3.10/dist-packages (from torch>=1.8.1->torchmetrics) (1.11.1)\n",
            "Requirement already satisfied: networkx in /usr/local/lib/python3.10/dist-packages (from torch>=1.8.1->torchmetrics) (3.1)\n",
            "Requirement already satisfied: jinja2 in /usr/local/lib/python3.10/dist-packages (from torch>=1.8.1->torchmetrics) (3.1.2)\n",
            "Requirement already satisfied: triton==2.0.0 in /usr/local/lib/python3.10/dist-packages (from torch>=1.8.1->torchmetrics) (2.0.0)\n",
            "Requirement already satisfied: cmake in /usr/local/lib/python3.10/dist-packages (from triton==2.0.0->torch>=1.8.1->torchmetrics) (3.25.2)\n",
            "Requirement already satisfied: lit in /usr/local/lib/python3.10/dist-packages (from triton==2.0.0->torch>=1.8.1->torchmetrics) (16.0.5)\n",
            "Requirement already satisfied: MarkupSafe>=2.0 in /usr/local/lib/python3.10/dist-packages (from jinja2->torch>=1.8.1->torchmetrics) (2.1.2)\n",
            "Requirement already satisfied: mpmath>=0.19 in /usr/local/lib/python3.10/dist-packages (from sympy->torch>=1.8.1->torchmetrics) (1.3.0)\n",
            "Installing collected packages: torchmetrics\n",
            "Successfully installed torchmetrics-0.11.4\n"
          ]
        }
      ]
    },
    {
      "cell_type": "code",
      "source": [
        "pip install torchinfo"
      ],
      "metadata": {
        "colab": {
          "base_uri": "https://localhost:8080/"
        },
        "id": "m8vUFSeMb_bt",
        "outputId": "d9a88ff1-17bb-47e7-e636-60551d8e9b7c"
      },
      "execution_count": null,
      "outputs": [
        {
          "output_type": "stream",
          "name": "stdout",
          "text": [
            "Looking in indexes: https://pypi.org/simple, https://us-python.pkg.dev/colab-wheels/public/simple/\n",
            "Collecting torchinfo\n",
            "  Downloading torchinfo-1.8.0-py3-none-any.whl (23 kB)\n",
            "Installing collected packages: torchinfo\n",
            "Successfully installed torchinfo-1.8.0\n"
          ]
        }
      ]
    },
    {
      "cell_type": "code",
      "execution_count": null,
      "metadata": {
        "ExecuteTime": {
          "end_time": "2023-05-02T10:42:53.059564113Z",
          "start_time": "2023-05-02T10:42:49.429979345Z"
        },
        "id": "vcVz6Qz2kZpU",
        "colab": {
          "base_uri": "https://localhost:8080/"
        },
        "outputId": "ed6aee21-cf71-4612-d9ea-6a1c0b8c8f11"
      },
      "outputs": [
        {
          "output_type": "stream",
          "name": "stdout",
          "text": [
            "CUDA GPU found:  Tesla T4\n",
            "Turing/Ampere with TensorCores is available, you can speed up training with FP16 precision\n"
          ]
        }
      ],
      "source": [
        "# imports\n",
        "import torch\n",
        "import torch.nn as nn\n",
        "import torch.nn.functional as F\n",
        "import torch.optim as optim\n",
        "import matplotlib.pyplot as plt\n",
        "from torchinfo import summary\n",
        "from tqdm.notebook import trange, tqdm\n",
        "from torch.utils.data import Dataset, DataLoader\n",
        "from copy import deepcopy\n",
        "\n",
        "import os\n",
        "import wget\n",
        "import zipfile\n",
        "import csv\n",
        "import scipy.io\n",
        "\n",
        "# check if cuda and training with mixed precision is available\n",
        "tensor_cores_available = False\n",
        "if (torch.cuda.is_available() == False):\n",
        "    print('CUDA not found! It is highly recommended to enable CUDA for the exercises')\n",
        "else:\n",
        "    print('CUDA GPU found: ', torch.cuda.get_device_name(['0']))\n",
        "    if torch.cuda.get_device_capability('cuda')[0] >= 7:\n",
        "        tensor_cores_available = True\n",
        "        print('Turing/Ampere with TensorCores is available, you can speed up training with FP16 precision')"
      ]
    },
    {
      "cell_type": "code",
      "execution_count": null,
      "metadata": {
        "ExecuteTime": {
          "end_time": "2023-05-02T10:42:53.563311337Z",
          "start_time": "2023-05-02T10:42:53.061567071Z"
        },
        "id": "cJDhqg0UhN2O",
        "colab": {
          "base_uri": "https://localhost:8080/"
        },
        "outputId": "0f9841fd-f3df-442e-c105-447f55a34092"
      },
      "outputs": [
        {
          "output_type": "stream",
          "name": "stdout",
          "text": [
            "--2023-05-21 08:42:57--  https://archive.physionet.org/challenge/2017/REFERENCE-v3.csv\n",
            "Resolving archive.physionet.org (archive.physionet.org)... 128.30.30.88\n",
            "Connecting to archive.physionet.org (archive.physionet.org)|128.30.30.88|:443... connected.\n",
            "HTTP request sent, awaiting response... 200 OK\n",
            "Length: 76752 (75K) [text/plain]\n",
            "Saving to: ‘REFERENCE-v3.csv’\n",
            "\n",
            "REFERENCE-v3.csv    100%[===================>]  74.95K   170KB/s    in 0.4s    \n",
            "\n",
            "2023-05-21 08:42:58 (170 KB/s) - ‘REFERENCE-v3.csv’ saved [76752/76752]\n",
            "\n"
          ]
        }
      ],
      "source": [
        "# get physionet_dataset\n",
        "! wget -nc 'https://archive.physionet.org/challenge/2017/REFERENCE-v3.csv'\n",
        "def get_physionet_dataset():\n",
        "    # settings\n",
        "    sample_rate = 300\n",
        "    dataset_path = './training2017'\n",
        "    dataset_url = 'https://archive.physionet.org/challenge/2017/training2017.zip'\n",
        "    dataset_annotations = 'REFERENCE-v3.csv'\n",
        "\n",
        "    # download data (this may take ~1 minute)\n",
        "    if not os.path.isfile(dataset_path + '.zip'):\n",
        "        wget.download(dataset_url)\n",
        "    if not os.path.isdir(dataset_path):\n",
        "        zipfile.ZipFile(dataset_path + '.zip','r').extractall()\n",
        "\n",
        "    # build dataset from reference file\n",
        "    with open(dataset_annotations, 'r') as f:\n",
        "        reader = csv.reader(f)\n",
        "        dataset = []\n",
        "        label_dict = {'N': torch.tensor([0]).long(), 'A': torch.tensor([1]).long(), 'O': torch.tensor([2]).long(), '~': torch.tensor([3]).long()}\n",
        "        for file_name, label in reader:\n",
        "            dataset.append({'input': torch.from_numpy(scipy.io.loadmat(os.path.join(dataset_path, file_name + '.mat'))['val']).float().squeeze(),\n",
        "                            'target': label_dict[label]})\n",
        "\n",
        "    return dataset, sample_rate"
      ]
    },
    {
      "cell_type": "markdown",
      "metadata": {
        "id": "kVO8rjATiQEp"
      },
      "source": [
        "## Task 0: PhysioNet/CinC Challenge\n",
        "\n",
        "Inspect the challenge data. In the following cell the physionet dataset is loaded and relevant dataset information is printed as well as exemplary ECG rhythms are plotted.\n",
        "\n",
        "First we get the raw data and their corresponding labels as a list of dicts (keys: input, target). We extract the ground truth/labels and save them in the tensor `labels`. To keep the labels in a human-readable way, we also create a mapping `label_map`."
      ]
    },
    {
      "cell_type": "code",
      "execution_count": null,
      "metadata": {
        "ExecuteTime": {
          "end_time": "2023-05-02T10:42:55.372115696Z",
          "start_time": "2023-05-02T10:42:53.568044241Z"
        },
        "id": "lEuP2ECgj3bN"
      },
      "outputs": [],
      "source": [
        "records_and_labels, sample_rate = get_physionet_dataset()\n",
        "labels = torch.tensor([e['target'] for e in records_and_labels])\n",
        "label_map = ['N', 'AF', 'O', '~']"
      ]
    },
    {
      "cell_type": "markdown",
      "metadata": {
        "id": "wMKw0uZohN2Q"
      },
      "source": [
        "Next, we want to extract some basic information about our dataset like the number of data its holding as well as the class distribution."
      ]
    },
    {
      "cell_type": "code",
      "execution_count": null,
      "metadata": {
        "ExecuteTime": {
          "end_time": "2023-05-02T10:42:55.698054316Z",
          "start_time": "2023-05-02T10:42:55.377356035Z"
        },
        "id": "uu3IJi8bhN2Q",
        "colab": {
          "base_uri": "https://localhost:8080/",
          "height": 507
        },
        "outputId": "3d6e0323-d0de-4400-caa8-e62e9ef7f883"
      },
      "outputs": [
        {
          "output_type": "stream",
          "name": "stdout",
          "text": [
            "number of recordings:  8528\n",
            "number of classes: 4\n"
          ]
        },
        {
          "output_type": "display_data",
          "data": {
            "text/plain": [
              "<Figure size 640x480 with 1 Axes>"
            ],
            "image/png": "[encoded data removed]"
          },
          "metadata": {}
        }
      ],
      "source": [
        "# number of recordings\n",
        "num_recordings = len(labels)\n",
        "print('number of recordings: ', num_recordings)\n",
        "\n",
        "# number of classes\n",
        "num_classes = torch.unique(labels).numel()\n",
        "print('number of classes:', num_classes)\n",
        "\n",
        "# class distribution\n",
        "class_distribution = torch.histc(labels.float(), bins=num_classes)/num_recordings\n",
        "plt.figure('class distribution')\n",
        "plt.bar(torch.arange(num_classes), class_distribution)\n",
        "plt.title('class distribution')\n",
        "plt.xlabel('class')\n",
        "plt.xticks(ticks=torch.arange(num_classes), labels=label_map)\n",
        "plt.xlim([-0.5, num_classes-0.5])\n",
        "plt.ylabel('%')\n",
        "plt.ylim([0, 1]);"
      ]
    },
    {
      "cell_type": "markdown",
      "metadata": {
        "id": "kSm4btsWhN2Q"
      },
      "source": [
        "Let's plot an example for every of our four ECG types."
      ]
    },
    {
      "cell_type": "code",
      "execution_count": null,
      "metadata": {
        "ExecuteTime": {
          "end_time": "2023-05-02T10:42:56.650400389Z",
          "start_time": "2023-05-02T10:42:55.698545686Z"
        },
        "id": "57Xu37MBhN2Q",
        "colab": {
          "base_uri": "https://localhost:8080/",
          "height": 1000
        },
        "outputId": "2598438c-9236-4e38-c92f-5bac956cf438"
      },
      "outputs": [
        {
          "output_type": "display_data",
          "data": {
            "text/plain": [
              "<Figure size 1500x1200 with 4 Axes>"
            ],
            "image/png": "[encoded data removed]"
          },
          "metadata": {}
        }
      ],
      "source": [
        "# plot signals (one example for each target)\n",
        "fig, axs = plt.subplots(num_classes, 1, sharex=True, figsize=(15,3*num_classes))\n",
        "index = [0, 3, 76, 1245]\n",
        "long_label_mapping = ['normal sinus rhythms (N)', 'atrial fibrillation (AF)', 'other rhythms (O)', 'noise signals (∼)']\n",
        "\n",
        "for i in range(num_classes):\n",
        "    signal = records_and_labels[index[i]]['input']\n",
        "    axs[i].plot((torch.arange(signal.numel()).float()/sample_rate).numpy(), (signal/1000).numpy())\n",
        "    axs[i].set_title(long_label_mapping[i])\n",
        "    axs[i].set_xlim([0, 30])\n",
        "    axs[i].set_ylabel('mV')\n",
        "axs[i].set_xlabel('sec');"
      ]
    },
    {
      "cell_type": "markdown",
      "metadata": {
        "id": "A7Fi0PsDhN2R"
      },
      "source": [
        "The last information, we want to extract, is the distribution of the signal length."
      ]
    },
    {
      "cell_type": "code",
      "execution_count": null,
      "metadata": {
        "ExecuteTime": {
          "end_time": "2023-05-02T10:42:57.056733394Z",
          "start_time": "2023-05-02T10:42:56.650842419Z"
        },
        "id": "z5Yz1594hN2R",
        "colab": {
          "base_uri": "https://localhost:8080/",
          "height": 548
        },
        "outputId": "bd6267d8-7c02-49fa-8ac7-64279d0f5362"
      },
      "outputs": [
        {
          "output_type": "display_data",
          "data": {
            "text/plain": [
              "<Figure size 500x500 with 1 Axes>"
            ],
            "image/png": "[encoded data removed]"
          },
          "metadata": {}
        }
      ],
      "source": [
        "import seaborn as sns\n",
        "\n",
        "sns.displot([entry['input'].numel()/sample_rate for entry in records_and_labels], kde=True)\n",
        "plt.title('signal length distribution')\n",
        "plt.xlabel('sec');"
      ]
    },
    {
      "cell_type": "markdown",
      "metadata": {
        "id": "W3eE8-7ss7YY"
      },
      "source": [
        "## Task 1 (20 points): Preprocessing\n",
        "\n",
        "As you saw in the previous cell, the recordings in the dataset are not normalized and of variable sequence length.\n",
        "\n",
        "To use the ecg signals with our neural nets normalize each recording $s$ to have *zero mean* and *unit variance*.\n",
        "$$\n",
        "s'=\\frac{s-\\mu_s}{\\sigma_s}\n",
        "$$\n",
        "where $\\mu_s$ and $\\sigma_s$ are the mean and standard deviation calculated over each record in the dataset. Iterate over the dataset to calculate $\\mu$ and $\\sigma$ for each record and normalize it."
      ]
    },
    {
      "cell_type": "code",
      "execution_count": null,
      "metadata": {
        "ExecuteTime": {
          "end_time": "2023-05-02T10:42:57.564777368Z",
          "start_time": "2023-05-02T10:42:57.044721973Z"
        },
        "id": "Xwi6gNUohN2R"
      },
      "outputs": [],
      "source": [
        "# normalize each recording\n",
        "for i in range(num_recordings):\n",
        "    # load\n",
        "    signal = records_and_labels[i]['input']\n",
        "\n",
        "    signal = (signal-signal.mean())/signal.std()\n",
        "\n",
        "    # save\n",
        "    records_and_labels[i]['input'] = signal"
      ]
    },
    {
      "cell_type": "markdown",
      "metadata": {
        "id": "ptVTbUz9hN2R"
      },
      "source": [
        "To make the handling of the data easier, we want to ensure, that all signals have the **same length of 30 seconds**. To do that, iterate over the data:\n",
        "* if a recording is longer than 30 seconds crop it symmetrically\n",
        "* if it is shorter pad the signal with zeros using `F.pad` ([pytorch-doc](https://pytorch.org/docs/stable/generated/torch.nn.functional.pad.html)), again symmetrically.\n",
        "\n",
        "To obtain the length of the signal in seconds, divide its length/number of elements with the `sample_rate` in Hz (it is the same for all recordings). The cropped or padded signal should then append to the list `data`."
      ]
    },
    {
      "cell_type": "code",
      "execution_count": null,
      "metadata": {
        "ExecuteTime": {
          "end_time": "2023-05-02T10:42:57.616899634Z",
          "start_time": "2023-05-02T10:42:57.569360521Z"
        },
        "id": "COF_iw6-hN2S",
        "colab": {
          "base_uri": "https://localhost:8080/"
        },
        "outputId": "8fa38ce4-c74e-41b6-e9b4-ee81dd86639f"
      },
      "outputs": [
        {
          "output_type": "stream",
          "name": "stdout",
          "text": [
            "{30.0}\n"
          ]
        }
      ],
      "source": [
        "# to fixed signal length\n",
        "x = set()\n",
        "fixed_signal_length = 30\n",
        "for i in range(num_recordings):\n",
        "    # load\n",
        "    signal = records_and_labels[i]['input']\n",
        "\n",
        "    signal_length = signal.numel() / sample_rate\n",
        "    if signal_length < fixed_signal_length:\n",
        "        needed_padding = (fixed_signal_length*sample_rate-signal.numel())//2\n",
        "        needed_padding1 = needed_padding\n",
        "        if needed_padding1+needed_padding+signal.numel()!=fixed_signal_length*sample_rate:\n",
        "          needed_padding1=fixed_signal_length*sample_rate-needed_padding-signal.numel()\n",
        "        signal = F.pad(signal,(needed_padding,needed_padding1))\n",
        "\n",
        "    elif signal_length > fixed_signal_length:\n",
        "        middle=int(signal_length*150)\n",
        "        signal = signal[int(middle-15*sample_rate):int(middle+15*sample_rate)]\n",
        "\n",
        "    # save\n",
        "    x.add(signal.numel() / sample_rate)\n",
        "    records_and_labels[i]['input'] = signal\n",
        "print(x)"
      ]
    },
    {
      "cell_type": "markdown",
      "metadata": {
        "id": "yU97pCsBhN2S"
      },
      "source": [
        "As you can remember from the class distribution plot, the classes $\\omega$ are unbalanced. So we create class weights $w_\\omega$ to weight the loss during training. We obtain them with the formula of the **root inverse frequency**:\n",
        "$$ w_{\\omega_i} = \\sqrt{(P_{\\omega_i})^{-1}}$$\n",
        "We calculate $P_{\\omega_i}$ by counting the labels with `torch.bincount` and dividing them by `num_recordings`. The first element of the weight tensor should contain $1.2995$."
      ]
    },
    {
      "cell_type": "code",
      "execution_count": null,
      "metadata": {
        "ExecuteTime": {
          "end_time": "2023-05-02T10:42:57.630005381Z",
          "start_time": "2023-05-02T10:42:57.615119863Z"
        },
        "id": "_8uMAqSahN2S",
        "colab": {
          "base_uri": "https://localhost:8080/"
        },
        "outputId": "c0e2a5f4-f1f2-4a97-dac6-9107594135e2"
      },
      "outputs": [
        {
          "output_type": "stream",
          "name": "stdout",
          "text": [
            "tensor([0.5952, 0.0889, 0.2832, 0.0327])\n",
            "tensor([1.2962, 3.3542, 1.8792, 5.5287])\n"
          ]
        }
      ],
      "source": [
        "#TODO\n",
        "P = torch.bincount(labels.flatten())/num_recordings\n",
        "print(P)\n",
        "class_weights = (P**-1)**0.5\n",
        "print(class_weights)"
      ]
    },
    {
      "cell_type": "markdown",
      "metadata": {
        "id": "yWTRj-wwhN2S"
      },
      "source": [
        "Next, we prepare all data in datasets for training and validation. In this exercise we perform a single fold validation on a fixed train/valid set (with ratio 90:10)."
      ]
    },
    {
      "cell_type": "code",
      "execution_count": null,
      "metadata": {
        "ExecuteTime": {
          "end_time": "2023-05-02T10:42:57.991613260Z",
          "start_time": "2023-05-02T10:42:57.628108387Z"
        },
        "id": "n9sOku2I6g1E",
        "colab": {
          "base_uri": "https://localhost:8080/"
        },
        "outputId": "6a57167b-0754-485a-fa1e-05a94ff00b8b"
      },
      "outputs": [
        {
          "output_type": "stream",
          "name": "stderr",
          "text": [
            "/usr/local/lib/python3.10/dist-packages/torch/utils/data/dataloader.py:560: UserWarning: This DataLoader will create 4 worker processes in total. Our suggested max number of worker in current system is 2, which is smaller than what this DataLoader is going to create. Please be aware that excessive worker creation might get DataLoader running slow or even freeze, lower the worker number to avoid potential slowness/freeze if necessary.\n",
            "  warnings.warn(_create_warning_msg(\n"
          ]
        }
      ],
      "source": [
        "# provided dataset class\n",
        "class CinCDataset(Dataset):\n",
        "    def __init__(self, data: torch.Tensor, ground_truth: torch.Tensor):\n",
        "        super().__init__()\n",
        "        self.data = data.unsqueeze(1)\n",
        "        self.ground_truth = ground_truth\n",
        "\n",
        "    def __len__(self):\n",
        "        return len(self.data)\n",
        "\n",
        "    def __getitem__(self, idx):\n",
        "        return self.data[idx], self.ground_truth[idx]\n",
        "\n",
        "# for reproducibility (do not change)\n",
        "torch.manual_seed(0)\n",
        "\n",
        "# split dataset in train/valid set\n",
        "ratio = 0.9\n",
        "split = int(num_recordings*ratio)\n",
        "perm = torch.randperm(num_recordings)\n",
        "\n",
        "dataset_train = [records_and_labels[i] for i in perm[:split]]\n",
        "dataset_valid = [records_and_labels[i] for i in perm[split:]]\n",
        "\n",
        "input_train = torch.stack([entry['input'] for entry in dataset_train])\n",
        "target_train = torch.cat([entry['target'] for entry in dataset_train])\n",
        "input_valid = torch.stack([entry['input'] for entry in dataset_valid])\n",
        "target_valid = torch.cat([entry['target'] for entry in dataset_valid])\n",
        "\n",
        "# create dataloader for training\n",
        "train_dataset = CinCDataset(input_train, target_train)\n",
        "val_dataset = CinCDataset(input_valid, target_valid)\n",
        "\n",
        "train_dataloader = DataLoader(train_dataset, batch_size=32, shuffle=True, drop_last=True, num_workers=4)\n",
        "val_dataloader = DataLoader(val_dataset, batch_size=64, drop_last=False, num_workers=4)"
      ]
    },
    {
      "cell_type": "markdown",
      "metadata": {
        "id": "XW6mGSsQ3sqc"
      },
      "source": [
        "## Task 2: Implementing and training the convolutional backbone\n",
        "### Task 2.1 (15 points): ResNetBlock\n",
        "We want to use the famous ResNet architecture for our CNNs. Therefore, we need to implement the `ResNetBlock` as a module to make the building of our ResNets easier and more flexible. For the implementation follow the illustration using the appropriate torch functions and substitute the ReLUs with leaky ones for a further improvement .\n",
        "![res block](https://drive.google.com/uc?export=view&id=1aj13ywlRJp4h0lIeLVyrtSuprZbV7LWJ)"
      ]
    },
    {
      "cell_type": "code",
      "execution_count": null,
      "metadata": {
        "ExecuteTime": {
          "end_time": "2023-05-02T10:42:58.008827980Z",
          "start_time": "2023-05-02T10:42:57.995393511Z"
        },
        "id": "KA9HDwJXq66Q"
      },
      "outputs": [],
      "source": [
        " class ResNetBlock(nn.Module):\n",
        "    def __init__(self, in_channels, out_channels, kernel_size=17):\n",
        "        super(ResNetBlock, self).__init__()\n",
        "        self.left_block = nn.Sequential(nn.Conv1d(in_channels,out_channels,1,stride=2,bias=False),\n",
        "                                        nn.BatchNorm1d(out_channels))\n",
        "        self.right_block = nn.Sequential(nn.Conv1d(in_channels,out_channels,kernel_size=kernel_size,stride=2,padding=kernel_size//2,bias=False),\n",
        "                                         nn.BatchNorm1d(out_channels),\n",
        "                                         nn.ReLU(),\n",
        "                                         nn.Conv1d(out_channels,out_channels,kernel_size=kernel_size,padding=kernel_size//2,bias=False),\n",
        "                                         nn.BatchNorm1d(out_channels)\n",
        "                                         )\n",
        "        self.relu=nn.ReLU()\n",
        "\n",
        "    def forward(self, x):\n",
        "\n",
        "        x_left = self.left_block(x)\n",
        "        x_right = self.right_block(x)\n",
        "        x = self.relu(x_left + x_right)\n",
        "\n",
        "        return x"
      ]
    },
    {
      "cell_type": "markdown",
      "metadata": {
        "id": "O_nxCTiBhN2S"
      },
      "source": [
        "### Task 2.2 (15 points): Small ResNet as convolutional backbone\n",
        "The goal of this exercise is to compare the performance of convolutions and LSTM-cells for the classification of time series. To allow a shorter training of each method, we first build a convolutional backbone that will function as a feature extractor as a starting point for each of the two methods.\n",
        "\n",
        "The `ResBackbone` consist of:\n",
        "- single sequential block `input_conv`: 1d-convolution with output channels = 16, kernel size = 17, same padding and stride = 1 (remember to disable the bias in the convolution layer), 1d-batch normalization  and leaky ReLU activation.\n",
        "- three `ResNetBlock`s that you implemented above: the first and the third `ResNetBlock`s double the number of channels, so that output of `ResBackbone` should have 64 channels."
      ]
    },
    {
      "cell_type": "code",
      "execution_count": null,
      "metadata": {
        "ExecuteTime": {
          "end_time": "2023-05-02T10:42:58.014334562Z",
          "start_time": "2023-05-02T10:42:58.003081880Z"
        },
        "id": "IkuuPi2KhN2T"
      },
      "outputs": [],
      "source": [
        "class ResBackbone(nn.Module):\n",
        "    def __init__(self):\n",
        "        super().__init__()\n",
        "        self.input_conv = nn.Sequential(\n",
        "            nn.Conv1d(1,16,17,padding=8,bias=False),\n",
        "            nn.BatchNorm1d(16),\n",
        "            nn.ReLU()\n",
        "        )\n",
        "\n",
        "        self.backbone = nn.Sequential(\n",
        "            ResNetBlock(16,32),\n",
        "            ResNetBlock(32,32),\n",
        "            ResNetBlock(32,64)\n",
        "        )\n",
        "\n",
        "    def forward(self, x):\n",
        "\n",
        "        x=self.input_conv(x)\n",
        "        x=self.backbone(x)\n",
        "\n",
        "        return x"
      ]
    },
    {
      "cell_type": "code",
      "source": [
        "summary(ResBackbone(), (1, 1, 30*sample_rate))"
      ],
      "metadata": {
        "id": "RIxgfQJHzsra",
        "colab": {
          "base_uri": "https://localhost:8080/"
        },
        "outputId": "cde3b1d4-79ed-40db-e12e-405f0fec1a4d"
      },
      "execution_count": null,
      "outputs": [
        {
          "output_type": "execute_result",
          "data": {
            "text/plain": [
              "==========================================================================================\n",
              "Layer (type:depth-idx)                   Output Shape              Param #\n",
              "==========================================================================================\n",
              "ResBackbone                              [1, 64, 1125]             --\n",
              "├─Sequential: 1-1                        [1, 16, 9000]             --\n",
              "│    └─Conv1d: 2-1                       [1, 16, 9000]             272\n",
              "│    └─BatchNorm1d: 2-2                  [1, 16, 9000]             32\n",
              "│    └─ReLU: 2-3                         [1, 16, 9000]             --\n",
              "├─Sequential: 1-2                        [1, 64, 1125]             --\n",
              "│    └─ResNetBlock: 2-4                  [1, 32, 4500]             --\n",
              "│    │    └─Sequential: 3-1              [1, 32, 4500]             576\n",
              "│    │    └─Sequential: 3-2              [1, 32, 4500]             26,240\n",
              "│    │    └─ReLU: 3-3                    [1, 32, 4500]             --\n",
              "│    └─ResNetBlock: 2-5                  [1, 32, 2250]             --\n",
              "│    │    └─Sequential: 3-4              [1, 32, 2250]             1,088\n",
              "│    │    └─Sequential: 3-5              [1, 32, 2250]             34,944\n",
              "│    │    └─ReLU: 3-6                    [1, 32, 2250]             --\n",
              "│    └─ResNetBlock: 2-6                  [1, 64, 1125]             --\n",
              "│    │    └─Sequential: 3-7              [1, 64, 1125]             2,176\n",
              "│    │    └─Sequential: 3-8              [1, 64, 1125]             104,704\n",
              "│    │    └─ReLU: 3-9                    [1, 64, 1125]             --\n",
              "==========================================================================================\n",
              "Total params: 170,032\n",
              "Trainable params: 170,032\n",
              "Non-trainable params: 0\n",
              "Total mult-adds (M): 322.70\n",
              "==========================================================================================\n",
              "Input size (MB): 0.04\n",
              "Forward/backward pass size (MB): 16.13\n",
              "Params size (MB): 0.68\n",
              "Estimated Total Size (MB): 16.84\n",
              "=========================================================================================="
            ]
          },
          "metadata": {},
          "execution_count": 16
        }
      ]
    },
    {
      "cell_type": "markdown",
      "metadata": {
        "id": "--6JvBPGhN2T"
      },
      "source": [
        "Check your backbone with the `summary` function, it should consists of $170\\,032$ trainable parameters and return an output size of $[B=1, 64, 1125]$."
      ]
    },
    {
      "cell_type": "markdown",
      "metadata": {
        "id": "BdVNj4YphN2T"
      },
      "source": [
        "Next, we want to train the backbone. It's performance can be considered as a baseline.\n",
        "Implement `ResBaseline` module by addition of classifier head to the `ResBackbone`. Classifier head will contain:\n",
        "- adaptive average pulling `nn.AdaptiveAvgPool1d()` to reduce the temporal dimension to 1.\n",
        "- fully-connected layer `nn.Linear()` with 4 outputs (4 ECG classes)."
      ]
    },
    {
      "cell_type": "code",
      "execution_count": null,
      "metadata": {
        "ExecuteTime": {
          "end_time": "2023-05-02T10:43:01.704914694Z",
          "start_time": "2023-05-02T10:43:01.700114955Z"
        },
        "id": "UlauNAwwhN2T"
      },
      "outputs": [],
      "source": [
        "class ResBaseline(nn.Module):\n",
        "    def __init__(self):\n",
        "        super(ResBaseline, self).__init__()\n",
        "\n",
        "        self.backbone = ResBackbone()\n",
        "\n",
        "        #TODO\n",
        "        self.pool = nn.AdaptiveAvgPool1d(1)\n",
        "        self.classifier = nn.Linear(64,4)\n",
        "\n",
        "    def forward(self, x):\n",
        "        x=self.backbone(x)\n",
        "        x=self.pool(x)\n",
        "        x=self.classifier(x.flatten(start_dim=1))\n",
        "\n",
        "        return x"
      ]
    },
    {
      "cell_type": "code",
      "execution_count": null,
      "metadata": {
        "ExecuteTime": {
          "end_time": "2023-05-02T10:43:01.697180459Z",
          "start_time": "2023-05-02T10:42:58.010959907Z"
        },
        "id": "3nOZlqpdhN2T",
        "colab": {
          "base_uri": "https://localhost:8080/"
        },
        "outputId": "3a50813d-7bd8-4b3e-de82-cd7471450360"
      },
      "outputs": [
        {
          "output_type": "execute_result",
          "data": {
            "text/plain": [
              "===============================================================================================\n",
              "Layer (type:depth-idx)                        Output Shape              Param #\n",
              "===============================================================================================\n",
              "ResBaseline                                   [1, 4]                    --\n",
              "├─ResBackbone: 1-1                            [1, 64, 1125]             --\n",
              "│    └─Sequential: 2-1                        [1, 16, 9000]             --\n",
              "│    │    └─Conv1d: 3-1                       [1, 16, 9000]             272\n",
              "│    │    └─BatchNorm1d: 3-2                  [1, 16, 9000]             32\n",
              "│    │    └─ReLU: 3-3                         [1, 16, 9000]             --\n",
              "│    └─Sequential: 2-2                        [1, 64, 1125]             --\n",
              "│    │    └─ResNetBlock: 3-4                  [1, 32, 4500]             26,816\n",
              "│    │    └─ResNetBlock: 3-5                  [1, 32, 2250]             36,032\n",
              "│    │    └─ResNetBlock: 3-6                  [1, 64, 1125]             106,880\n",
              "├─AdaptiveAvgPool1d: 1-2                      [1, 64, 1]                --\n",
              "├─Linear: 1-3                                 [1, 4]                    260\n",
              "===============================================================================================\n",
              "Total params: 170,292\n",
              "Trainable params: 170,292\n",
              "Non-trainable params: 0\n",
              "Total mult-adds (M): 322.71\n",
              "===============================================================================================\n",
              "Input size (MB): 0.04\n",
              "Forward/backward pass size (MB): 16.13\n",
              "Params size (MB): 0.68\n",
              "Estimated Total Size (MB): 16.85\n",
              "==============================================================================================="
            ]
          },
          "metadata": {},
          "execution_count": 18
        }
      ],
      "source": [
        "summary(ResBaseline(), (1, 1, 30*sample_rate))"
      ]
    },
    {
      "cell_type": "markdown",
      "metadata": {
        "id": "ewlRLNtAhN2T"
      },
      "source": [
        "### Task 2.3 (25 points): Training routine\n",
        "Complete the training routine function `train` below. For the training use:\n",
        "- Adam optimizer with an initial learning rate of __0.001__.\n",
        "- exponential decay of the learning rate with a factor = __0.95__.\n",
        "- cross-entropy loss with root-inverse class weighting to encounter for the class-imbalance.\n",
        "\n",
        "Useful PyTorch functions: `optim.Adam(), optim.lr_scheduler.ExponentialLR(), nn.CrossEntropyLoss()`"
      ]
    },
    {
      "cell_type": "code",
      "execution_count": null,
      "metadata": {
        "ExecuteTime": {
          "end_time": "2023-05-02T10:43:03.674346276Z",
          "start_time": "2023-05-02T10:43:01.711911482Z"
        },
        "id": "zk5B18YohN2T"
      },
      "outputs": [],
      "source": [
        "from torch.cuda import amp\n",
        "import torchmetrics as metric\n",
        "\n",
        "def train(model, num_epochs, lr_decay=0.95, lr=0.001):\n",
        "\n",
        "    #TODO\n",
        "    # optimizer\n",
        "    optimizer = torch.optim.Adam(model.parameters(), lr=lr)\n",
        "\n",
        "    #TODO\n",
        "    # learning rate scheduler\n",
        "    lr_scheduler = torch.optim.lr_scheduler.ExponentialLR(optimizer, lr_decay)\n",
        "\n",
        "    #TODO\n",
        "    # criterion\n",
        "    criterion = nn.CrossEntropyLoss(weight=class_weights).cuda()\n",
        "\n",
        "    # for reproducibility (do not change)\n",
        "    torch.manual_seed(0)\n",
        "\n",
        "    # statistics\n",
        "    ce_mean = metric.MeanMetric().cuda()\n",
        "    f1_metric = metric.classification.MulticlassF1Score(num_classes).cuda()\n",
        "    best_val_f1 = []\n",
        "\n",
        "    # for num_epochs\n",
        "    for epoch in trange(num_epochs, unit='epoch'):\n",
        "\n",
        "        # train mode\n",
        "        model.train()\n",
        "\n",
        "        # statistics\n",
        "        ce_mean.reset()\n",
        "        f1_metric.reset()\n",
        "\n",
        "        # for each mini-batch\n",
        "        for input, target in train_dataloader:\n",
        "            target=target.cuda()\n",
        "            #TODO\n",
        "            output = model(input.cuda())\n",
        "            loss = criterion(output,target.cuda())\n",
        "            optimizer.zero_grad()\n",
        "            loss.backward()\n",
        "            optimizer.step()\n",
        "            # statistics\n",
        "            ce_mean(loss)\n",
        "            f1_metric(output, target.cuda())\n",
        "\n",
        "\n",
        "        # update learning rate\n",
        "        lr_scheduler.step()\n",
        "\n",
        "        # output\n",
        "        tqdm.write('Epoch {} (train) -- loss: {:.4f} f1: {:.4f}'.format(epoch, ce_mean.compute(), f1_metric.compute()))\n",
        "\n",
        "        # validate\n",
        "\n",
        "        # eval mode\n",
        "        model.eval()\n",
        "\n",
        "        # statistics\n",
        "        ce_mean.reset()\n",
        "        f1_metric.reset()\n",
        "\n",
        "        # for each mini-batch\n",
        "        for input, target in val_dataloader:\n",
        "            target = target.cuda()\n",
        "            #TODO\n",
        "            output = model(input.cuda())\n",
        "            loss = criterion(output,target.cuda())\n",
        "\n",
        "            # statistics\n",
        "            ce_mean(loss)\n",
        "            f1_metric(output, target.cuda())\n",
        "\n",
        "        # output\n",
        "        tqdm.write('Epoch {} (valid) -- loss: {:.4f} f1: {:.4f}\\n'.format(epoch, ce_mean.compute(), f1_metric.compute()))\n",
        "        # statistics\n",
        "        best_val_f1.append(f1_metric.compute().item())\n",
        "        ce_mean.reset()\n",
        "        f1_metric.reset()\n",
        "\n",
        "    # make model callable outside this function\n",
        "    train.trained_model = model\n",
        "\n",
        "    # best F1 score\n",
        "    print('Best F1 score (valid):', '{:.2f}'.format(round(max(best_val_f1), 2)))"
      ]
    },
    {
      "cell_type": "markdown",
      "metadata": {
        "id": "4geyY6gAhN2T"
      },
      "source": [
        "Call the training function to train your `ResBaseline` for __10__ epochs.\n",
        "After training the best validation F1 score should be around 0.68."
      ]
    },
    {
      "cell_type": "code",
      "execution_count": null,
      "metadata": {
        "ExecuteTime": {
          "end_time": "2023-05-02T10:44:04.360338275Z",
          "start_time": "2023-05-02T10:43:03.677766207Z"
        },
        "id": "CD05LuWChN2T",
        "colab": {
          "base_uri": "https://localhost:8080/",
          "height": 658,
          "referenced_widgets": [
            "1e0dfb59f57f4820946287c2a85fc521",
            "683e360f99a345eabba97be19fe86197",
            "494d7ecb340e45bb814de1579b160c7b",
            "1ea2cdf65cd640a68a6a13854dfc5241",
            "e7e555aaca7d49e18774265f43e66151",
            "656a2117afd54b7b8c30096ef38db44f",
            "7e0eef90d2be40e992f5d3c13b879abf",
            "3bc5fca3d1d24ced9b795b488e9af226",
            "90fcf252c7c34af1b7088762b710705a",
            "ac7f1e96cfad4b7ca75143fb2167ae4c",
            "d8a84db8bc8e415ebce1a8208447eae8"
          ]
        },
        "outputId": "f38e5413-8973-4611-bb48-1c419ec961fb"
      },
      "outputs": [
        {
          "output_type": "display_data",
          "data": {
            "text/plain": [
              "  0%|          | 0/10 [00:00<?, ?epoch/s]"
            ],
            "application/vnd.jupyter.widget-view+json": {
              "version_major": 2,
              "version_minor": 0,
              "model_id": "1e0dfb59f57f4820946287c2a85fc521"
            }
          },
          "metadata": {}
        },
        {
          "output_type": "stream",
          "name": "stderr",
          "text": [
            "/usr/local/lib/python3.10/dist-packages/torch/utils/data/dataloader.py:561: UserWarning: This DataLoader will create 4 worker processes in total. Our suggested max number of worker in current system is 2, which is smaller than what this DataLoader is going to create. Please be aware that excessive worker creation might get DataLoader running slow or even freeze, lower the worker number to avoid potential slowness/freeze if necessary.\n",
            "  warnings.warn(_create_warning_msg(\n"
          ]
        },
        {
          "output_type": "stream",
          "name": "stdout",
          "text": [
            "Epoch 0 (train) -- loss: 0.9900 f1: 0.4600\n",
            "Epoch 0 (valid) -- loss: 0.8175 f1: 0.5729\n",
            "\n",
            "Epoch 1 (train) -- loss: 0.8244 f1: 0.5735\n",
            "Epoch 1 (valid) -- loss: 0.7664 f1: 0.5672\n",
            "\n",
            "Epoch 2 (train) -- loss: 0.7720 f1: 0.5984\n",
            "Epoch 2 (valid) -- loss: 0.7322 f1: 0.6103\n",
            "\n",
            "Epoch 3 (train) -- loss: 0.7421 f1: 0.6132\n",
            "Epoch 3 (valid) -- loss: 0.7153 f1: 0.6393\n",
            "\n",
            "Epoch 4 (train) -- loss: 0.7181 f1: 0.6342\n",
            "Epoch 4 (valid) -- loss: 0.7000 f1: 0.6593\n",
            "\n",
            "Epoch 5 (train) -- loss: 0.7108 f1: 0.6329\n",
            "Epoch 5 (valid) -- loss: 0.7223 f1: 0.6508\n",
            "\n",
            "Epoch 6 (train) -- loss: 0.6879 f1: 0.6531\n",
            "Epoch 6 (valid) -- loss: 0.6654 f1: 0.6604\n",
            "\n",
            "Epoch 7 (train) -- loss: 0.6763 f1: 0.6548\n",
            "Epoch 7 (valid) -- loss: 0.6736 f1: 0.6329\n",
            "\n",
            "Epoch 8 (train) -- loss: 0.6633 f1: 0.6652\n",
            "Epoch 8 (valid) -- loss: 0.6340 f1: 0.6984\n",
            "\n",
            "Epoch 9 (train) -- loss: 0.6480 f1: 0.6764\n",
            "Epoch 9 (valid) -- loss: 0.6612 f1: 0.6702\n",
            "\n",
            "Best F1 score (valid): 0.70\n"
          ]
        }
      ],
      "source": [
        "baseline = ResBaseline().cuda()\n",
        "train(baseline, 10)"
      ]
    },
    {
      "cell_type": "markdown",
      "metadata": {
        "id": "s8pNqH_NhN2T"
      },
      "source": [
        "## Task 3: Compare convolutions and LSTM-cells\n",
        "Finally, we want to start our little experiment to compare the performance of a plain convolutional classifier and a classifier that based on LSTM features.\n",
        "We will use the pretrained backbone from the previous task as an encoder. Following function `extract_pretrained_backbone` returns the pretrained backbone of the `ResBaseline` model."
      ]
    },
    {
      "cell_type": "code",
      "execution_count": null,
      "metadata": {
        "ExecuteTime": {
          "end_time": "2023-05-02T10:44:04.400223553Z",
          "start_time": "2023-05-02T10:44:04.369627505Z"
        },
        "id": "wIyPu10GhN2T"
      },
      "outputs": [],
      "source": [
        "def extract_pretrained_backbone(model: ResBaseline):\n",
        "    return deepcopy(model.backbone)"
      ]
    },
    {
      "cell_type": "markdown",
      "metadata": {
        "id": "2zDAABtvhN2T"
      },
      "source": [
        "Extract the pretrained backbone from baseline model."
      ]
    },
    {
      "cell_type": "code",
      "execution_count": null,
      "metadata": {
        "ExecuteTime": {
          "end_time": "2023-05-02T10:44:04.475385933Z",
          "start_time": "2023-05-02T10:44:04.387890614Z"
        },
        "id": "qGs8clQnhN2U"
      },
      "outputs": [],
      "source": [
        "conv_backbone = extract_pretrained_backbone(baseline)"
      ]
    },
    {
      "cell_type": "markdown",
      "metadata": {
        "id": "gNRtQaHrhN2U"
      },
      "source": [
        "In order to train both models convolution-based and LSTM-based we will use `Classifier` module that is implemented bellow.\n",
        "`Classifier` contains pretrained backbone, sequence processor `seq` (can be either convolution-based or LSTM-based), and a single fully-connected layer.\n",
        "Class method `check_compatibility` will help to ensure that sequence processor returns output with right dimensions."
      ]
    },
    {
      "cell_type": "code",
      "execution_count": null,
      "metadata": {
        "ExecuteTime": {
          "end_time": "2023-05-02T10:44:04.476013140Z",
          "start_time": "2023-05-02T10:44:04.391297567Z"
        },
        "id": "x_RxdPWwhN2U"
      },
      "outputs": [],
      "source": [
        "class Classifier(nn.Module):\n",
        "    def __init__(self, pretrainend_backbone:ResBackbone, sequence_processor:nn.Module, num_classes=4):\n",
        "        super().__init__()\n",
        "        self.backbone = pretrainend_backbone\n",
        "        self.seq = sequence_processor\n",
        "        self.classifier = nn.Linear(64, num_classes, bias=True)\n",
        "\n",
        "    def forward(self, x):\n",
        "        x = self.backbone(x)\n",
        "        x = self.seq(x)\n",
        "        x = self.classifier(x)\n",
        "\n",
        "        return x\n",
        "\n",
        "    @classmethod\n",
        "    def check_compatibility(cls, sequence_processor: nn.Module):\n",
        "        batch_size = 2\n",
        "        features_from_backbone = torch.rand(batch_size, 64, 1125) # BxCxW\n",
        "        out = sequence_processor(features_from_backbone)\n",
        "        target_shape = torch.Size([batch_size, 64])\n",
        "\n",
        "        if out.shape != target_shape:\n",
        "            raise AssertionError(f'Expected input {features_from_backbone.shape} to be processed to shape {target_shape}, but found shape {out.shape}')\n",
        "        else:\n",
        "            print('CHECK COMPLETED')"
      ]
    },
    {
      "cell_type": "markdown",
      "metadata": {
        "id": "qAS7BBVJhN2U"
      },
      "source": [
        "### Task 3.1 (10 points): Convolutional approach\n",
        "First we will check performance of the convolution approach.\n",
        "Implement convolution sequence processor `conv_approach` that consists of:\n",
        "- two `ResNetBlock`s: first expands channel dimension to 128 and second reduce it back to 64.\n",
        "- adaptive average pulling `nn.AdaptiveAvgPool1d()` to reduce the temporal dimension (use `nn.Flatten` after the pooling layer to get rid of temporal dimension and pass compatability check)."
      ]
    },
    {
      "cell_type": "code",
      "execution_count": null,
      "metadata": {
        "ExecuteTime": {
          "end_time": "2023-05-02T10:44:04.489008850Z",
          "start_time": "2023-05-02T10:44:04.420924480Z"
        },
        "id": "oQEvxdGOhN2Z"
      },
      "outputs": [],
      "source": [
        "conv_approach = nn.Sequential(\n",
        "  ResNetBlock(64,128),\n",
        "  ResNetBlock(128,64),\n",
        "  nn.AdaptiveAvgPool1d(1),\n",
        "  nn.Flatten()\n",
        ")"
      ]
    },
    {
      "cell_type": "markdown",
      "metadata": {
        "id": "GPiYUaYthN2Z"
      },
      "source": [
        "Call `check_compatibility` function to make sure that sequence processor returns output with right dimensions."
      ]
    },
    {
      "cell_type": "code",
      "execution_count": null,
      "metadata": {
        "ExecuteTime": {
          "end_time": "2023-05-02T10:44:04.490213236Z",
          "start_time": "2023-05-02T10:44:04.424140680Z"
        },
        "id": "sWsiJ7TFhN2Z",
        "colab": {
          "base_uri": "https://localhost:8080/"
        },
        "outputId": "213c3a8f-7361-46e3-d969-1993e3f45b3a"
      },
      "outputs": [
        {
          "output_type": "stream",
          "name": "stdout",
          "text": [
            "CHECK COMPLETED\n"
          ]
        }
      ],
      "source": [
        "Classifier.check_compatibility(conv_approach)"
      ]
    },
    {
      "cell_type": "markdown",
      "metadata": {
        "id": "pnc10QsRhN2Z"
      },
      "source": [
        "Instantiate `Classifier` model with pretrained backbone and convolutional sequence processor and check number of parameters.\n",
        "Total parameter count should be __814,516__."
      ]
    },
    {
      "cell_type": "code",
      "execution_count": null,
      "metadata": {
        "ExecuteTime": {
          "end_time": "2023-05-02T10:44:04.495485187Z",
          "start_time": "2023-05-02T10:44:04.466213323Z"
        },
        "id": "cRCvZBFwhN2Z",
        "colab": {
          "base_uri": "https://localhost:8080/"
        },
        "outputId": "51addbba-4ce0-49aa-aaf7-3b215fc6cade"
      },
      "outputs": [
        {
          "output_type": "stream",
          "name": "stderr",
          "text": [
            "/usr/local/lib/python3.10/dist-packages/torchinfo/torchinfo.py:477: UserWarning: TypedStorage is deprecated. It will be removed in the future and UntypedStorage will be the only storage class. This should only matter to you if you are using storages directly.  To access UntypedStorage directly, use tensor.untyped_storage() instead of tensor.storage()\n",
            "  action_fn=lambda data: sys.getsizeof(data.storage()),\n",
            "/usr/local/lib/python3.10/dist-packages/torch/storage.py:665: UserWarning: TypedStorage is deprecated. It will be removed in the future and UntypedStorage will be the only storage class. This should only matter to you if you are using storages directly.  To access UntypedStorage directly, use tensor.untyped_storage() instead of tensor.storage()\n",
            "  return super().__sizeof__() + self.nbytes()\n"
          ]
        },
        {
          "output_type": "execute_result",
          "data": {
            "text/plain": [
              "===============================================================================================\n",
              "Layer (type:depth-idx)                        Output Shape              Param #\n",
              "===============================================================================================\n",
              "Classifier                                    [1, 4]                    --\n",
              "├─ResBackbone: 1-1                            [1, 64, 1125]             --\n",
              "│    └─Sequential: 2-1                        [1, 16, 9000]             --\n",
              "│    │    └─Conv1d: 3-1                       [1, 16, 9000]             272\n",
              "│    │    └─BatchNorm1d: 3-2                  [1, 16, 9000]             32\n",
              "│    │    └─ReLU: 3-3                         [1, 16, 9000]             --\n",
              "│    └─Sequential: 2-2                        [1, 64, 1125]             --\n",
              "│    │    └─ResNetBlock: 3-4                  [1, 32, 4500]             26,816\n",
              "│    │    └─ResNetBlock: 3-5                  [1, 32, 2250]             36,032\n",
              "│    │    └─ResNetBlock: 3-6                  [1, 64, 1125]             106,880\n",
              "├─Sequential: 1-2                             [1, 64]                   --\n",
              "│    └─ResNetBlock: 2-3                       [1, 128, 563]             --\n",
              "│    │    └─Sequential: 3-7                   [1, 128, 563]             8,448\n",
              "│    │    └─Sequential: 3-8                   [1, 128, 563]             418,304\n",
              "│    │    └─ReLU: 3-9                         [1, 128, 563]             --\n",
              "│    └─ResNetBlock: 2-4                       [1, 64, 282]              --\n",
              "│    │    └─Sequential: 3-10                  [1, 64, 282]              8,320\n",
              "│    │    └─Sequential: 3-11                  [1, 64, 282]              209,152\n",
              "│    │    └─ReLU: 3-12                        [1, 64, 282]              --\n",
              "│    └─AdaptiveAvgPool1d: 2-5                 [1, 64, 1]                --\n",
              "│    └─Flatten: 2-6                           [1, 64]                   --\n",
              "├─Linear: 1-3                                 [1, 4]                    260\n",
              "===============================================================================================\n",
              "Total params: 814,516\n",
              "Trainable params: 814,516\n",
              "Non-trainable params: 0\n",
              "Total mult-adds (M): 623.75\n",
              "===============================================================================================\n",
              "Input size (MB): 0.04\n",
              "Forward/backward pass size (MB): 20.45\n",
              "Params size (MB): 3.26\n",
              "Estimated Total Size (MB): 23.75\n",
              "==============================================================================================="
            ]
          },
          "metadata": {},
          "execution_count": 28
        }
      ],
      "source": [
        "conv_classifier = Classifier(conv_backbone, conv_approach).cuda()\n",
        "summary(conv_classifier, (1, 1, 30*sample_rate))"
      ]
    },
    {
      "cell_type": "markdown",
      "metadata": {
        "id": "KuemGGC3hN2Z"
      },
      "source": [
        "Call the training function to train your convolution-based `Classifier` for __15__ epochs.\n",
        "After training the best validation F1 score should be around 0.82."
      ]
    },
    {
      "cell_type": "code",
      "execution_count": null,
      "metadata": {
        "ExecuteTime": {
          "end_time": "2023-05-02T10:46:02.589452058Z",
          "start_time": "2023-05-02T10:44:04.499033885Z"
        },
        "id": "GWxwJzQ2hN2Z",
        "colab": {
          "base_uri": "https://localhost:8080/",
          "height": 871,
          "referenced_widgets": [
            "806f08cdea2146f2a651e2ac8544724e",
            "d33c2a9851e94b229d6f921859d77082",
            "2a73f90d6b0f4197ad9fda65d2c18a0c",
            "8adfbfc410cc4987988fe46105e58fb7",
            "4a3ab0fdf27d4c6381ed9905751c68c1",
            "c6ccad169fbd416ea38e54d99cfe8033",
            "caac5eaad783407db3c00c08211ed061",
            "f48ba7e513314f4eab6a9679949cbc8e",
            "39b7917ccdde496298d3ac5ee4141980",
            "273b8625a7f54d9c981f7ccc334c1c03",
            "117f8ab8850b4c96928f35187feeb257"
          ]
        },
        "outputId": "69bf3465-52ed-4ff4-b9df-004358f35226"
      },
      "outputs": [
        {
          "output_type": "display_data",
          "data": {
            "text/plain": [
              "  0%|          | 0/15 [00:00<?, ?epoch/s]"
            ],
            "application/vnd.jupyter.widget-view+json": {
              "version_major": 2,
              "version_minor": 0,
              "model_id": "806f08cdea2146f2a651e2ac8544724e"
            }
          },
          "metadata": {}
        },
        {
          "output_type": "stream",
          "name": "stdout",
          "text": [
            "Epoch 0 (train) -- loss: 0.7250 f1: 0.6250\n",
            "Epoch 0 (valid) -- loss: 0.7248 f1: 0.6201\n",
            "\n",
            "Epoch 1 (train) -- loss: 0.6413 f1: 0.6809\n",
            "Epoch 1 (valid) -- loss: 0.5789 f1: 0.6829\n",
            "\n",
            "Epoch 2 (train) -- loss: 0.5920 f1: 0.7029\n",
            "Epoch 2 (valid) -- loss: 0.5446 f1: 0.7120\n",
            "\n",
            "Epoch 3 (train) -- loss: 0.5531 f1: 0.7251\n",
            "Epoch 3 (valid) -- loss: 0.5089 f1: 0.7577\n",
            "\n",
            "Epoch 4 (train) -- loss: 0.5284 f1: 0.7350\n",
            "Epoch 4 (valid) -- loss: 0.5485 f1: 0.7473\n",
            "\n",
            "Epoch 5 (train) -- loss: 0.5123 f1: 0.7435\n",
            "Epoch 5 (valid) -- loss: 0.5096 f1: 0.7671\n",
            "\n",
            "Epoch 6 (train) -- loss: 0.4799 f1: 0.7631\n",
            "Epoch 6 (valid) -- loss: 0.4572 f1: 0.7745\n",
            "\n",
            "Epoch 7 (train) -- loss: 0.4656 f1: 0.7760\n",
            "Epoch 7 (valid) -- loss: 0.4765 f1: 0.7577\n",
            "\n",
            "Epoch 8 (train) -- loss: 0.4453 f1: 0.7805\n",
            "Epoch 8 (valid) -- loss: 0.4894 f1: 0.7624\n",
            "\n",
            "Epoch 9 (train) -- loss: 0.4388 f1: 0.7882\n",
            "Epoch 9 (valid) -- loss: 0.4581 f1: 0.7877\n",
            "\n",
            "Epoch 10 (train) -- loss: 0.4270 f1: 0.7927\n",
            "Epoch 10 (valid) -- loss: 0.4499 f1: 0.7844\n",
            "\n",
            "Epoch 11 (train) -- loss: 0.4114 f1: 0.8019\n",
            "Epoch 11 (valid) -- loss: 0.4547 f1: 0.7917\n",
            "\n",
            "Epoch 12 (train) -- loss: 0.3972 f1: 0.8144\n",
            "Epoch 12 (valid) -- loss: 0.4277 f1: 0.8186\n",
            "\n",
            "Epoch 13 (train) -- loss: 0.3849 f1: 0.8081\n",
            "Epoch 13 (valid) -- loss: 0.4444 f1: 0.7730\n",
            "\n",
            "Epoch 14 (train) -- loss: 0.3667 f1: 0.8257\n",
            "Epoch 14 (valid) -- loss: 0.5215 f1: 0.7941\n",
            "\n",
            "Best F1 score (valid): 0.82\n"
          ]
        }
      ],
      "source": [
        "train(conv_classifier, 15)"
      ]
    },
    {
      "cell_type": "markdown",
      "metadata": {
        "id": "fdYN_E4xywhy"
      },
      "source": [
        "###  Task 3.1 (15 points): LSTM\n",
        "\n",
        "![lstm_img](https://drive.google.com/uc?export=view&id=1u5wPANKBODEM9deW17eoXc69EA6aEEef)\n",
        "Now it's time to measure performance of the LSTM approach.\n",
        "Implement LSTM module that consists of:\n",
        "- one additional `ResNetBlock` (`conv_feature`) that increases the channel dimension from 64 to 128.\n",
        "- LSTM block `lstm_cells`: use `nn.LSTM` with output channels = __64__, number of layers = __4__ and batch_first = __True__.\n",
        "\n",
        "__Pay attention__:\n",
        "- LSTM module expects the input to be of shape __[B, L, C]__ while __B__ is a batch size, __L__ is a temporal dimension, and __C__ is a channel dimension. Output of `conv_feature` has the  __[B, C, L]__ structure. Then you should to transpose the output of `conv_feature` in the `forward` function using `torch.transpose` before providing it as an input to LSTM module.\n",
        "- output of the LSTM module contains the hidden state to every sequence entry, but we are only interested in the __last one__. Use indexing to select it and `squeeze`method to get the output shape = __[B, 64]__."
      ]
    },
    {
      "cell_type": "code",
      "execution_count": null,
      "metadata": {
        "ExecuteTime": {
          "end_time": "2023-05-02T10:46:02.608255415Z",
          "start_time": "2023-05-02T10:46:02.591109958Z"
        },
        "id": "5X08Wdwc0mPS"
      },
      "outputs": [],
      "source": [
        "class LSTMNet(nn.Module):\n",
        "    def __init__(self):\n",
        "        super(LSTMNet, self).__init__()\n",
        "\n",
        "        #TODO\n",
        "        self.conv_feature = ResNetBlock(64,128)\n",
        "        self.lstm_cells = nn.LSTM(128,64,num_layers=4,batch_first=True)\n",
        "\n",
        "    def forward(self, x):\n",
        "\n",
        "        x = self.conv_feature(x)\n",
        "        x= torch.transpose(x,1,2)\n",
        "        x = self.lstm_cells(x)[-1][-1][-1]\n",
        "        return x"
      ]
    },
    {
      "cell_type": "markdown",
      "metadata": {
        "id": "M_IHaFkzhN2Z"
      },
      "source": [
        "Call `check_compatibility` function to make sure that sequence processor returns output with right dimensions.\n",
        "Instantiate `Classifier` model with pretrained backbone and LSTM sequence processor and check number of parameters.\n",
        "Total parameter count should be __746,548__."
      ]
    },
    {
      "cell_type": "code",
      "execution_count": null,
      "metadata": {
        "ExecuteTime": {
          "end_time": "2023-05-02T10:46:03.098073479Z",
          "start_time": "2023-05-02T10:46:02.598810377Z"
        },
        "id": "sIxwAQzhhN2Z",
        "colab": {
          "base_uri": "https://localhost:8080/"
        },
        "outputId": "4f1cb372-0b23-4c86-c23d-883033f6c566"
      },
      "outputs": [
        {
          "output_type": "stream",
          "name": "stdout",
          "text": [
            "CHECK COMPLETED\n"
          ]
        },
        {
          "output_type": "execute_result",
          "data": {
            "text/plain": [
              "===============================================================================================\n",
              "Layer (type:depth-idx)                        Output Shape              Param #\n",
              "===============================================================================================\n",
              "Classifier                                    [1, 4]                    --\n",
              "├─ResBackbone: 1-1                            [1, 64, 1125]             --\n",
              "│    └─Sequential: 2-1                        [1, 16, 9000]             --\n",
              "│    │    └─Conv1d: 3-1                       [1, 16, 9000]             272\n",
              "│    │    └─BatchNorm1d: 3-2                  [1, 16, 9000]             32\n",
              "│    │    └─ReLU: 3-3                         [1, 16, 9000]             --\n",
              "│    └─Sequential: 2-2                        [1, 64, 1125]             --\n",
              "│    │    └─ResNetBlock: 3-4                  [1, 32, 4500]             26,816\n",
              "│    │    └─ResNetBlock: 3-5                  [1, 32, 2250]             36,032\n",
              "│    │    └─ResNetBlock: 3-6                  [1, 64, 1125]             106,880\n",
              "├─LSTMNet: 1-2                                [1, 64]                   --\n",
              "│    └─ResNetBlock: 2-3                       [1, 128, 563]             --\n",
              "│    │    └─Sequential: 3-7                   [1, 128, 563]             8,448\n",
              "│    │    └─Sequential: 3-8                   [1, 128, 563]             418,304\n",
              "│    │    └─ReLU: 3-9                         [1, 128, 563]             --\n",
              "│    └─LSTM: 2-4                              [1, 563, 64]              149,504\n",
              "├─Linear: 1-3                                 [1, 4]                    260\n",
              "===============================================================================================\n",
              "Total params: 746,548\n",
              "Trainable params: 746,548\n",
              "Non-trainable params: 0\n",
              "Total mult-adds (M): 646.71\n",
              "===============================================================================================\n",
              "Input size (MB): 0.04\n",
              "Forward/backward pass size (MB): 19.88\n",
              "Params size (MB): 2.99\n",
              "Estimated Total Size (MB): 22.90\n",
              "==============================================================================================="
            ]
          },
          "metadata": {},
          "execution_count": 29
        }
      ],
      "source": [
        "Classifier.check_compatibility(LSTMNet())\n",
        "lstm_classifier = Classifier(extract_pretrained_backbone(baseline), LSTMNet())\n",
        "summary(lstm_classifier, (1, 1, 30*sample_rate))"
      ]
    },
    {
      "cell_type": "markdown",
      "metadata": {
        "id": "pcG5Bnd3hN2Z"
      },
      "source": [
        "Call the training function to train your LSTM-based `Classifier` for __15__ epochs.\n",
        "After training the best validation F1 score should be around 0.67."
      ]
    },
    {
      "cell_type": "code",
      "execution_count": null,
      "metadata": {
        "ExecuteTime": {
          "end_time": "2023-05-02T10:48:25.467484935Z",
          "start_time": "2023-05-02T10:46:03.058803164Z"
        },
        "id": "pfyqhpTvhN2Z",
        "colab": {
          "base_uri": "https://localhost:8080/",
          "height": 926,
          "referenced_widgets": [
            "2c76a285ade649ceb264c2d7900f3218",
            "773c2a70deaf453d9a1617eada4f796a",
            "4af7c9a7d07a4a679aa2050939e9a096",
            "445eb2bd2bcf4f9ab326c4449d2f7b03",
            "2e783c953710442f8dd60e12fa7cbe7c",
            "4eec2b4400654759914e1e70f9529fae",
            "cbbf9f6224c24735b12d9bd73bc9074a",
            "36257fa302644a67ad107b85b0af5cf8",
            "f9ba54d864324859901ee1f1792074b0",
            "5d91b96c024841fda56bb7d2e46b53c1",
            "4752458f13814d0baed7fe1cfea79f1b"
          ]
        },
        "outputId": "0cadda77-9b3a-41d4-9fec-76705805c376"
      },
      "outputs": [
        {
          "output_type": "display_data",
          "data": {
            "text/plain": [
              "  0%|          | 0/15 [00:00<?, ?epoch/s]"
            ],
            "application/vnd.jupyter.widget-view+json": {
              "version_major": 2,
              "version_minor": 0,
              "model_id": "2c76a285ade649ceb264c2d7900f3218"
            }
          },
          "metadata": {}
        },
        {
          "output_type": "stream",
          "name": "stderr",
          "text": [
            "/usr/local/lib/python3.10/dist-packages/torch/utils/data/dataloader.py:561: UserWarning: This DataLoader will create 4 worker processes in total. Our suggested max number of worker in current system is 2, which is smaller than what this DataLoader is going to create. Please be aware that excessive worker creation might get DataLoader running slow or even freeze, lower the worker number to avoid potential slowness/freeze if necessary.\n",
            "  warnings.warn(_create_warning_msg(\n"
          ]
        },
        {
          "output_type": "stream",
          "name": "stdout",
          "text": [
            "Epoch 0 (train) -- loss: 1.0171 f1: 0.4067\n",
            "Epoch 0 (valid) -- loss: 0.8901 f1: 0.5137\n",
            "\n",
            "Epoch 1 (train) -- loss: 0.9538 f1: 0.4544\n",
            "Epoch 1 (valid) -- loss: 0.9171 f1: 0.4486\n",
            "\n",
            "Epoch 2 (train) -- loss: 0.8926 f1: 0.4828\n",
            "Epoch 2 (valid) -- loss: 0.9781 f1: 0.3407\n",
            "\n",
            "Epoch 3 (train) -- loss: 0.8911 f1: 0.4904\n",
            "Epoch 3 (valid) -- loss: 0.8448 f1: 0.5535\n",
            "\n",
            "Epoch 4 (train) -- loss: 0.9020 f1: 0.5175\n",
            "Epoch 4 (valid) -- loss: 0.8243 f1: 0.5536\n",
            "\n",
            "Epoch 5 (train) -- loss: 0.8741 f1: 0.5133\n",
            "Epoch 5 (valid) -- loss: 0.8265 f1: 0.5531\n",
            "\n",
            "Epoch 6 (train) -- loss: 0.8266 f1: 0.5375\n",
            "Epoch 6 (valid) -- loss: 0.7301 f1: 0.6231\n",
            "\n",
            "Epoch 7 (train) -- loss: 0.7964 f1: 0.5735\n",
            "Epoch 7 (valid) -- loss: 0.7572 f1: 0.6073\n",
            "\n",
            "Epoch 8 (train) -- loss: 0.7464 f1: 0.6081\n",
            "Epoch 8 (valid) -- loss: 0.6926 f1: 0.6361\n",
            "\n",
            "Epoch 9 (train) -- loss: 0.7086 f1: 0.6331\n",
            "Epoch 9 (valid) -- loss: 0.7788 f1: 0.6165\n",
            "\n",
            "Epoch 10 (train) -- loss: 0.6877 f1: 0.6526\n",
            "Epoch 10 (valid) -- loss: 0.6847 f1: 0.6433\n",
            "\n",
            "Epoch 11 (train) -- loss: 0.6831 f1: 0.6516\n",
            "Epoch 11 (valid) -- loss: 0.6505 f1: 0.6724\n",
            "\n",
            "Epoch 12 (train) -- loss: 0.6505 f1: 0.6742\n",
            "Epoch 12 (valid) -- loss: 0.6453 f1: 0.6808\n",
            "\n",
            "Epoch 13 (train) -- loss: 0.6163 f1: 0.6898\n",
            "Epoch 13 (valid) -- loss: 0.5984 f1: 0.7156\n",
            "\n",
            "Epoch 14 (train) -- loss: 0.6070 f1: 0.6878\n",
            "Epoch 14 (valid) -- loss: 0.5848 f1: 0.6958\n",
            "\n",
            "Best F1 score (valid): 0.72\n"
          ]
        }
      ],
      "source": [
        "train(lstm_classifier, 15)"
      ]
    },
    {
      "cell_type": "markdown",
      "metadata": {
        "id": "vNo2u8eNhN2a"
      },
      "source": [
        "## Bonus task: Transformer\n",
        "\n",
        "Another newer approach is the use of so-called transformer, that relay on self-attention mechanism (see [Attention Is All You Need](https://arxiv.org/pdf/1706.03762.pdf))for the feature extraction instead of deep convolutional feature extractor.\n",
        "\n",
        "Implement `TransformerClassifier` that consists of:\n",
        "- very lightweight convolutional backbone here with two CBR-Blocks (`nn.Conv1d`, `nn.Batchnorm1d`, `nn.LeakyReLU`). Both have `kernel_size=17` and `stride=12`. The first block increase the channel_dimension to 32 and the second one double it to 64.\n",
        "- `nn.TransformerEncoder` with `num_layers = 6`. As a layer `nn.TransformerEncoder` will use `nn.TransformerEncoderLayer` with `nhead=4, dim_feedforward=512`, `batch_first=True` and `d_model` = number of features extracted by a lightweight convolutional backbone.\n",
        "- fully-connected layer as a classifier.\n",
        "\n",
        "`forward` function should be implemented in similar manner to the LSTM-task, but instead of using the last entry of the `nn.TransformerEncoder` output as an input to the linear classifier, calculate the mean over its sequence dimension __L__."
      ]
    },
    {
      "cell_type": "code",
      "execution_count": null,
      "metadata": {
        "ExecuteTime": {
          "end_time": "2023-05-02T10:48:25.473245807Z",
          "start_time": "2023-05-02T10:48:25.470877015Z"
        },
        "id": "67zLfyg_hN2a"
      },
      "outputs": [],
      "source": [
        "from torch.nn.modules.batchnorm import BatchNorm1d\n",
        "class TransformerClassifier(nn.Module):\n",
        "    def __init__(self):\n",
        "        super().__init__()\n",
        "\n",
        "        self.conv_backbone = nn.Sequential(\n",
        "            nn.Conv1d(1,32,17,stride=12,bias=False),\n",
        "            nn.BatchNorm1d(32),\n",
        "            nn.LeakyReLU(),\n",
        "            nn.Conv1d(32,64,17,stride=12,bias=False),\n",
        "            nn.BatchNorm1d(64),\n",
        "            nn.LeakyReLU(),\n",
        "        )\n",
        "        #TODO\n",
        "        self.transformer = nn.Sequential(\n",
        "            nn.TransformerEncoder(nn.TransformerEncoderLayer(64,nhead=4,dim_feedforward=512,batch_first=True),num_layers=6)\n",
        "        )\n",
        "        self.classifier = nn.Linear(64,4)\n",
        "\n",
        "    def forward(self, x):\n",
        "\n",
        "        x = self.conv_backbone(x)\n",
        "        x= torch.transpose(x,1,2)\n",
        "        x = self.transformer(x)\n",
        "        x = x.mean(1) # It is not 100% clear from the task description if the mean of x should be taken before the classifier or after, but this makes more sense (although both ways lead to the same result)\n",
        "        x = self.classifier(x)\n",
        "\n",
        "\n",
        "        return x"
      ]
    },
    {
      "cell_type": "code",
      "source": [
        "transformer = TransformerClassifier()\n",
        "summary(transformer, (1, 1, 30*sample_rate))"
      ],
      "metadata": {
        "colab": {
          "base_uri": "https://localhost:8080/"
        },
        "id": "dZK4q9D7h8FA",
        "outputId": "a9beabb2-52c3-4182-c2f4-9fecb67a8b8b"
      },
      "execution_count": null,
      "outputs": [
        {
          "output_type": "execute_result",
          "data": {
            "text/plain": [
              "====================================================================================================\n",
              "Layer (type:depth-idx)                             Output Shape              Param #\n",
              "====================================================================================================\n",
              "TransformerClassifier                              [1, 4]                    --\n",
              "├─Sequential: 1-1                                  [1, 64, 62]               --\n",
              "│    └─Conv1d: 2-1                                 [1, 32, 749]              544\n",
              "│    └─BatchNorm1d: 2-2                            [1, 32, 749]              64\n",
              "│    └─LeakyReLU: 2-3                              [1, 32, 749]              --\n",
              "│    └─Conv1d: 2-4                                 [1, 64, 62]               34,816\n",
              "│    └─BatchNorm1d: 2-5                            [1, 64, 62]               128\n",
              "│    └─LeakyReLU: 2-6                              [1, 64, 62]               --\n",
              "├─Sequential: 1-2                                  [1, 62, 64]               --\n",
              "│    └─TransformerEncoder: 2-7                     [1, 62, 64]               --\n",
              "│    │    └─ModuleList: 3-1                        --                        498,048\n",
              "├─Linear: 1-3                                      [1, 4]                    260\n",
              "====================================================================================================\n",
              "Total params: 533,860\n",
              "Trainable params: 533,860\n",
              "Non-trainable params: 0\n",
              "Total mult-adds (M): 2.57\n",
              "====================================================================================================\n",
              "Input size (MB): 0.04\n",
              "Forward/backward pass size (MB): 0.45\n",
              "Params size (MB): 0.14\n",
              "Estimated Total Size (MB): 0.63\n",
              "===================================================================================================="
            ]
          },
          "metadata": {},
          "execution_count": 33
        }
      ]
    },
    {
      "cell_type": "markdown",
      "metadata": {
        "id": "CQz0p36dhN2a"
      },
      "source": [
        "Call the training function to train your `TransformerClassifier` for __20__ epochs. In this case learning rate should be set to **0.0001**\n",
        "After training the best validation F1 score should be around 0.60."
      ]
    },
    {
      "cell_type": "code",
      "execution_count": null,
      "metadata": {
        "ExecuteTime": {
          "end_time": "2023-05-02T11:35:57.635416989Z",
          "start_time": "2023-05-02T11:32:35.636242692Z"
        },
        "id": "K1wi-CbhhN2a",
        "colab": {
          "base_uri": "https://localhost:8080/",
          "height": 1000,
          "referenced_widgets": [
            "0666d7433a1c4407ba70af3d373678fa",
            "667731850fdc470aa6447e548f3e175f",
            "d6b9fac78d41477c98821c8b7561b4cb",
            "22217d62d77e46d48f4806f746c5aeab",
            "f41ad9bd856247a699d7df16cdbbf0d5",
            "f4c4eec2dd3a44548888f8b9e85ee5a7",
            "732d591228be4412ab6f4ff46911baf0",
            "597dfe3118794ff188dcf1f55ca319a3",
            "b6f45c64d5c949378e320e039d28554e",
            "48c50b66d2ca4d159df38d8219f60f16",
            "02f8d039571f4c8f8725ab0c913cefe8"
          ]
        },
        "outputId": "96136c76-7481-495e-8819-fce27c2520c1"
      },
      "outputs": [
        {
          "output_type": "display_data",
          "data": {
            "text/plain": [
              "  0%|          | 0/20 [00:00<?, ?epoch/s]"
            ],
            "application/vnd.jupyter.widget-view+json": {
              "version_major": 2,
              "version_minor": 0,
              "model_id": "0666d7433a1c4407ba70af3d373678fa"
            }
          },
          "metadata": {}
        },
        {
          "output_type": "stream",
          "name": "stdout",
          "text": [
            "Epoch 0 (train) -- loss: 1.1527 f1: 0.3104\n",
            "Epoch 0 (valid) -- loss: 1.0580 f1: 0.3813\n",
            "\n",
            "Epoch 1 (train) -- loss: 1.0026 f1: 0.4394\n",
            "Epoch 1 (valid) -- loss: 1.0214 f1: 0.4596\n",
            "\n",
            "Epoch 2 (train) -- loss: 0.9226 f1: 0.5045\n",
            "Epoch 2 (valid) -- loss: 0.8984 f1: 0.5022\n",
            "\n",
            "Epoch 3 (train) -- loss: 0.8704 f1: 0.5387\n",
            "Epoch 3 (valid) -- loss: 0.8545 f1: 0.5438\n",
            "\n",
            "Epoch 4 (train) -- loss: 0.8094 f1: 0.5843\n",
            "Epoch 4 (valid) -- loss: 0.8112 f1: 0.5745\n",
            "\n",
            "Epoch 5 (train) -- loss: 0.7813 f1: 0.5895\n",
            "Epoch 5 (valid) -- loss: 0.7893 f1: 0.5907\n",
            "\n",
            "Epoch 6 (train) -- loss: 0.7349 f1: 0.6291\n",
            "Epoch 6 (valid) -- loss: 0.8524 f1: 0.5842\n",
            "\n",
            "Epoch 7 (train) -- loss: 0.7039 f1: 0.6404\n",
            "Epoch 7 (valid) -- loss: 0.7977 f1: 0.5767\n",
            "\n",
            "Epoch 8 (train) -- loss: 0.6672 f1: 0.6655\n",
            "Epoch 8 (valid) -- loss: 0.8564 f1: 0.5488\n",
            "\n",
            "Epoch 9 (train) -- loss: 0.6451 f1: 0.6787\n",
            "Epoch 9 (valid) -- loss: 0.8086 f1: 0.5928\n",
            "\n",
            "Epoch 10 (train) -- loss: 0.6235 f1: 0.6960\n",
            "Epoch 10 (valid) -- loss: 0.7986 f1: 0.5956\n",
            "\n",
            "Epoch 11 (train) -- loss: 0.6027 f1: 0.7143\n",
            "Epoch 11 (valid) -- loss: 0.8405 f1: 0.5579\n",
            "\n",
            "Epoch 12 (train) -- loss: 0.5857 f1: 0.7121\n",
            "Epoch 12 (valid) -- loss: 0.8058 f1: 0.6162\n",
            "\n",
            "Epoch 13 (train) -- loss: 0.5492 f1: 0.7450\n",
            "Epoch 13 (valid) -- loss: 0.8518 f1: 0.5954\n",
            "\n",
            "Epoch 14 (train) -- loss: 0.5452 f1: 0.7438\n",
            "Epoch 14 (valid) -- loss: 0.8767 f1: 0.5950\n",
            "\n",
            "Epoch 15 (train) -- loss: 0.5258 f1: 0.7535\n",
            "Epoch 15 (valid) -- loss: 0.8978 f1: 0.5891\n",
            "\n",
            "Epoch 16 (train) -- loss: 0.5185 f1: 0.7631\n",
            "Epoch 16 (valid) -- loss: 0.9219 f1: 0.6034\n",
            "\n",
            "Epoch 17 (train) -- loss: 0.4897 f1: 0.7805\n",
            "Epoch 17 (valid) -- loss: 0.8466 f1: 0.6183\n",
            "\n",
            "Epoch 18 (train) -- loss: 0.4734 f1: 0.7971\n",
            "Epoch 18 (valid) -- loss: 0.9080 f1: 0.6013\n",
            "\n",
            "Epoch 19 (train) -- loss: 0.4556 f1: 0.8090\n",
            "Epoch 19 (valid) -- loss: 0.9370 f1: 0.6046\n",
            "\n",
            "Best F1 score (valid): 0.62\n"
          ]
        }
      ],
      "source": [
        "train(TransformerClassifier().cuda(), 20, lr=0.0001)"
      ]
    }
  ],
  "metadata": {
    "accelerator": "GPU",
    "colab": {
      "provenance": [],
      "include_colab_link": true
    },
    "kernelspec": {
      "display_name": "Python 3 (ipykernel)",
      "language": "python",
      "name": "python3"
    },
    "language_info": {
      "codemirror_mode": {
        "name": "ipython",
        "version": 3
      },
      "file_extension": ".py",
      "mimetype": "text/x-python",
      "name": "python",
      "nbconvert_exporter": "python",
      "pygments_lexer": "ipython3",
      "version": "3.8.10"
    },
    "widgets": {
      "application/vnd.jupyter.widget-state+json": {
        "806f08cdea2146f2a651e2ac8544724e": {
          "model_module": "@jupyter-widgets/controls",
          "model_name": "HBoxModel",
          "model_module_version": "1.5.0",
          "state": {
            "_dom_classes": [],
            "_model_module": "@jupyter-widgets/controls",
            "_model_module_version": "1.5.0",
            "_model_name": "HBoxModel",
            "_view_count": null,
            "_view_module": "@jupyter-widgets/controls",
            "_view_module_version": "1.5.0",
            "_view_name": "HBoxView",
            "box_style": "",
            "children": [
              "IPY_MODEL_d33c2a9851e94b229d6f921859d77082",
              "IPY_MODEL_2a73f90d6b0f4197ad9fda65d2c18a0c",
              "IPY_MODEL_8adfbfc410cc4987988fe46105e58fb7"
            ],
            "layout": "IPY_MODEL_4a3ab0fdf27d4c6381ed9905751c68c1"
          }
        },
        "d33c2a9851e94b229d6f921859d77082": {
          "model_module": "@jupyter-widgets/controls",
          "model_name": "HTMLModel",
          "model_module_version": "1.5.0",
          "state": {
            "_dom_classes": [],
            "_model_module": "@jupyter-widgets/controls",
            "_model_module_version": "1.5.0",
            "_model_name": "HTMLModel",
            "_view_count": null,
            "_view_module": "@jupyter-widgets/controls",
            "_view_module_version": "1.5.0",
            "_view_name": "HTMLView",
            "description": "",
            "description_tooltip": null,
            "layout": "IPY_MODEL_c6ccad169fbd416ea38e54d99cfe8033",
            "placeholder": "​",
            "style": "IPY_MODEL_caac5eaad783407db3c00c08211ed061",
            "value": "100%"
          }
        },
        "2a73f90d6b0f4197ad9fda65d2c18a0c": {
          "model_module": "@jupyter-widgets/controls",
          "model_name": "FloatProgressModel",
          "model_module_version": "1.5.0",
          "state": {
            "_dom_classes": [],
            "_model_module": "@jupyter-widgets/controls",
            "_model_module_version": "1.5.0",
            "_model_name": "FloatProgressModel",
            "_view_count": null,
            "_view_module": "@jupyter-widgets/controls",
            "_view_module_version": "1.5.0",
            "_view_name": "ProgressView",
            "bar_style": "success",
            "description": "",
            "description_tooltip": null,
            "layout": "IPY_MODEL_f48ba7e513314f4eab6a9679949cbc8e",
            "max": 15,
            "min": 0,
            "orientation": "horizontal",
            "style": "IPY_MODEL_39b7917ccdde496298d3ac5ee4141980",
            "value": 15
          }
        },
        "8adfbfc410cc4987988fe46105e58fb7": {
          "model_module": "@jupyter-widgets/controls",
          "model_name": "HTMLModel",
          "model_module_version": "1.5.0",
          "state": {
            "_dom_classes": [],
            "_model_module": "@jupyter-widgets/controls",
            "_model_module_version": "1.5.0",
            "_model_name": "HTMLModel",
            "_view_count": null,
            "_view_module": "@jupyter-widgets/controls",
            "_view_module_version": "1.5.0",
            "_view_name": "HTMLView",
            "description": "",
            "description_tooltip": null,
            "layout": "IPY_MODEL_273b8625a7f54d9c981f7ccc334c1c03",
            "placeholder": "​",
            "style": "IPY_MODEL_117f8ab8850b4c96928f35187feeb257",
            "value": " 15/15 [03:35&lt;00:00, 14.42s/epoch]"
          }
        },
        "4a3ab0fdf27d4c6381ed9905751c68c1": {
          "model_module": "@jupyter-widgets/base",
          "model_name": "LayoutModel",
          "model_module_version": "1.2.0",
          "state": {
            "_model_module": "@jupyter-widgets/base",
            "_model_module_version": "1.2.0",
            "_model_name": "LayoutModel",
            "_view_count": null,
            "_view_module": "@jupyter-widgets/base",
            "_view_module_version": "1.2.0",
            "_view_name": "LayoutView",
            "align_content": null,
            "align_items": null,
            "align_self": null,
            "border": null,
            "bottom": null,
            "display": null,
            "flex": null,
            "flex_flow": null,
            "grid_area": null,
            "grid_auto_columns": null,
            "grid_auto_flow": null,
            "grid_auto_rows": null,
            "grid_column": null,
            "grid_gap": null,
            "grid_row": null,
            "grid_template_areas": null,
            "grid_template_columns": null,
            "grid_template_rows": null,
            "height": null,
            "justify_content": null,
            "justify_items": null,
            "left": null,
            "margin": null,
            "max_height": null,
            "max_width": null,
            "min_height": null,
            "min_width": null,
            "object_fit": null,
            "object_position": null,
            "order": null,
            "overflow": null,
            "overflow_x": null,
            "overflow_y": null,
            "padding": null,
            "right": null,
            "top": null,
            "visibility": null,
            "width": null
          }
        },
        "c6ccad169fbd416ea38e54d99cfe8033": {
          "model_module": "@jupyter-widgets/base",
          "model_name": "LayoutModel",
          "model_module_version": "1.2.0",
          "state": {
            "_model_module": "@jupyter-widgets/base",
            "_model_module_version": "1.2.0",
            "_model_name": "LayoutModel",
            "_view_count": null,
            "_view_module": "@jupyter-widgets/base",
            "_view_module_version": "1.2.0",
            "_view_name": "LayoutView",
            "align_content": null,
            "align_items": null,
            "align_self": null,
            "border": null,
            "bottom": null,
            "display": null,
            "flex": null,
            "flex_flow": null,
            "grid_area": null,
            "grid_auto_columns": null,
            "grid_auto_flow": null,
            "grid_auto_rows": null,
            "grid_column": null,
            "grid_gap": null,
            "grid_row": null,
            "grid_template_areas": null,
            "grid_template_columns": null,
            "grid_template_rows": null,
            "height": null,
            "justify_content": null,
            "justify_items": null,
            "left": null,
            "margin": null,
            "max_height": null,
            "max_width": null,
            "min_height": null,
            "min_width": null,
            "object_fit": null,
            "object_position": null,
            "order": null,
            "overflow": null,
            "overflow_x": null,
            "overflow_y": null,
            "padding": null,
            "right": null,
            "top": null,
            "visibility": null,
            "width": null
          }
        },
        "caac5eaad783407db3c00c08211ed061": {
          "model_module": "@jupyter-widgets/controls",
          "model_name": "DescriptionStyleModel",
          "model_module_version": "1.5.0",
          "state": {
            "_model_module": "@jupyter-widgets/controls",
            "_model_module_version": "1.5.0",
            "_model_name": "DescriptionStyleModel",
            "_view_count": null,
            "_view_module": "@jupyter-widgets/base",
            "_view_module_version": "1.2.0",
            "_view_name": "StyleView",
            "description_width": ""
          }
        },
        "f48ba7e513314f4eab6a9679949cbc8e": {
          "model_module": "@jupyter-widgets/base",
          "model_name": "LayoutModel",
          "model_module_version": "1.2.0",
          "state": {
            "_model_module": "@jupyter-widgets/base",
            "_model_module_version": "1.2.0",
            "_model_name": "LayoutModel",
            "_view_count": null,
            "_view_module": "@jupyter-widgets/base",
            "_view_module_version": "1.2.0",
            "_view_name": "LayoutView",
            "align_content": null,
            "align_items": null,
            "align_self": null,
            "border": null,
            "bottom": null,
            "display": null,
            "flex": null,
            "flex_flow": null,
            "grid_area": null,
            "grid_auto_columns": null,
            "grid_auto_flow": null,
            "grid_auto_rows": null,
            "grid_column": null,
            "grid_gap": null,
            "grid_row": null,
            "grid_template_areas": null,
            "grid_template_columns": null,
            "grid_template_rows": null,
            "height": null,
            "justify_content": null,
            "justify_items": null,
            "left": null,
            "margin": null,
            "max_height": null,
            "max_width": null,
            "min_height": null,
            "min_width": null,
            "object_fit": null,
            "object_position": null,
            "order": null,
            "overflow": null,
            "overflow_x": null,
            "overflow_y": null,
            "padding": null,
            "right": null,
            "top": null,
            "visibility": null,
            "width": null
          }
        },
        "39b7917ccdde496298d3ac5ee4141980": {
          "model_module": "@jupyter-widgets/controls",
          "model_name": "ProgressStyleModel",
          "model_module_version": "1.5.0",
          "state": {
            "_model_module": "@jupyter-widgets/controls",
            "_model_module_version": "1.5.0",
            "_model_name": "ProgressStyleModel",
            "_view_count": null,
            "_view_module": "@jupyter-widgets/base",
            "_view_module_version": "1.2.0",
            "_view_name": "StyleView",
            "bar_color": null,
            "description_width": ""
          }
        },
        "273b8625a7f54d9c981f7ccc334c1c03": {
          "model_module": "@jupyter-widgets/base",
          "model_name": "LayoutModel",
          "model_module_version": "1.2.0",
          "state": {
            "_model_module": "@jupyter-widgets/base",
            "_model_module_version": "1.2.0",
            "_model_name": "LayoutModel",
            "_view_count": null,
            "_view_module": "@jupyter-widgets/base",
            "_view_module_version": "1.2.0",
            "_view_name": "LayoutView",
            "align_content": null,
            "align_items": null,
            "align_self": null,
            "border": null,
            "bottom": null,
            "display": null,
            "flex": null,
            "flex_flow": null,
            "grid_area": null,
            "grid_auto_columns": null,
            "grid_auto_flow": null,
            "grid_auto_rows": null,
            "grid_column": null,
            "grid_gap": null,
            "grid_row": null,
            "grid_template_areas": null,
            "grid_template_columns": null,
            "grid_template_rows": null,
            "height": null,
            "justify_content": null,
            "justify_items": null,
            "left": null,
            "margin": null,
            "max_height": null,
            "max_width": null,
            "min_height": null,
            "min_width": null,
            "object_fit": null,
            "object_position": null,
            "order": null,
            "overflow": null,
            "overflow_x": null,
            "overflow_y": null,
            "padding": null,
            "right": null,
            "top": null,
            "visibility": null,
            "width": null
          }
        },
        "117f8ab8850b4c96928f35187feeb257": {
          "model_module": "@jupyter-widgets/controls",
          "model_name": "DescriptionStyleModel",
          "model_module_version": "1.5.0",
          "state": {
            "_model_module": "@jupyter-widgets/controls",
            "_model_module_version": "1.5.0",
            "_model_name": "DescriptionStyleModel",
            "_view_count": null,
            "_view_module": "@jupyter-widgets/base",
            "_view_module_version": "1.2.0",
            "_view_name": "StyleView",
            "description_width": ""
          }
        },
        "2c76a285ade649ceb264c2d7900f3218": {
          "model_module": "@jupyter-widgets/controls",
          "model_name": "HBoxModel",
          "model_module_version": "1.5.0",
          "state": {
            "_dom_classes": [],
            "_model_module": "@jupyter-widgets/controls",
            "_model_module_version": "1.5.0",
            "_model_name": "HBoxModel",
            "_view_count": null,
            "_view_module": "@jupyter-widgets/controls",
            "_view_module_version": "1.5.0",
            "_view_name": "HBoxView",
            "box_style": "",
            "children": [
              "IPY_MODEL_773c2a70deaf453d9a1617eada4f796a",
              "IPY_MODEL_4af7c9a7d07a4a679aa2050939e9a096",
              "IPY_MODEL_445eb2bd2bcf4f9ab326c4449d2f7b03"
            ],
            "layout": "IPY_MODEL_2e783c953710442f8dd60e12fa7cbe7c"
          }
        },
        "773c2a70deaf453d9a1617eada4f796a": {
          "model_module": "@jupyter-widgets/controls",
          "model_name": "HTMLModel",
          "model_module_version": "1.5.0",
          "state": {
            "_dom_classes": [],
            "_model_module": "@jupyter-widgets/controls",
            "_model_module_version": "1.5.0",
            "_model_name": "HTMLModel",
            "_view_count": null,
            "_view_module": "@jupyter-widgets/controls",
            "_view_module_version": "1.5.0",
            "_view_name": "HTMLView",
            "description": "",
            "description_tooltip": null,
            "layout": "IPY_MODEL_4eec2b4400654759914e1e70f9529fae",
            "placeholder": "​",
            "style": "IPY_MODEL_cbbf9f6224c24735b12d9bd73bc9074a",
            "value": "100%"
          }
        },
        "4af7c9a7d07a4a679aa2050939e9a096": {
          "model_module": "@jupyter-widgets/controls",
          "model_name": "FloatProgressModel",
          "model_module_version": "1.5.0",
          "state": {
            "_dom_classes": [],
            "_model_module": "@jupyter-widgets/controls",
            "_model_module_version": "1.5.0",
            "_model_name": "FloatProgressModel",
            "_view_count": null,
            "_view_module": "@jupyter-widgets/controls",
            "_view_module_version": "1.5.0",
            "_view_name": "ProgressView",
            "bar_style": "success",
            "description": "",
            "description_tooltip": null,
            "layout": "IPY_MODEL_36257fa302644a67ad107b85b0af5cf8",
            "max": 15,
            "min": 0,
            "orientation": "horizontal",
            "style": "IPY_MODEL_f9ba54d864324859901ee1f1792074b0",
            "value": 15
          }
        },
        "445eb2bd2bcf4f9ab326c4449d2f7b03": {
          "model_module": "@jupyter-widgets/controls",
          "model_name": "HTMLModel",
          "model_module_version": "1.5.0",
          "state": {
            "_dom_classes": [],
            "_model_module": "@jupyter-widgets/controls",
            "_model_module_version": "1.5.0",
            "_model_name": "HTMLModel",
            "_view_count": null,
            "_view_module": "@jupyter-widgets/controls",
            "_view_module_version": "1.5.0",
            "_view_name": "HTMLView",
            "description": "",
            "description_tooltip": null,
            "layout": "IPY_MODEL_5d91b96c024841fda56bb7d2e46b53c1",
            "placeholder": "​",
            "style": "IPY_MODEL_4752458f13814d0baed7fe1cfea79f1b",
            "value": " 15/15 [03:47&lt;00:00, 15.07s/epoch]"
          }
        },
        "2e783c953710442f8dd60e12fa7cbe7c": {
          "model_module": "@jupyter-widgets/base",
          "model_name": "LayoutModel",
          "model_module_version": "1.2.0",
          "state": {
            "_model_module": "@jupyter-widgets/base",
            "_model_module_version": "1.2.0",
            "_model_name": "LayoutModel",
            "_view_count": null,
            "_view_module": "@jupyter-widgets/base",
            "_view_module_version": "1.2.0",
            "_view_name": "LayoutView",
            "align_content": null,
            "align_items": null,
            "align_self": null,
            "border": null,
            "bottom": null,
            "display": null,
            "flex": null,
            "flex_flow": null,
            "grid_area": null,
            "grid_auto_columns": null,
            "grid_auto_flow": null,
            "grid_auto_rows": null,
            "grid_column": null,
            "grid_gap": null,
            "grid_row": null,
            "grid_template_areas": null,
            "grid_template_columns": null,
            "grid_template_rows": null,
            "height": null,
            "justify_content": null,
            "justify_items": null,
            "left": null,
            "margin": null,
            "max_height": null,
            "max_width": null,
            "min_height": null,
            "min_width": null,
            "object_fit": null,
            "object_position": null,
            "order": null,
            "overflow": null,
            "overflow_x": null,
            "overflow_y": null,
            "padding": null,
            "right": null,
            "top": null,
            "visibility": null,
            "width": null
          }
        },
        "4eec2b4400654759914e1e70f9529fae": {
          "model_module": "@jupyter-widgets/base",
          "model_name": "LayoutModel",
          "model_module_version": "1.2.0",
          "state": {
            "_model_module": "@jupyter-widgets/base",
            "_model_module_version": "1.2.0",
            "_model_name": "LayoutModel",
            "_view_count": null,
            "_view_module": "@jupyter-widgets/base",
            "_view_module_version": "1.2.0",
            "_view_name": "LayoutView",
            "align_content": null,
            "align_items": null,
            "align_self": null,
            "border": null,
            "bottom": null,
            "display": null,
            "flex": null,
            "flex_flow": null,
            "grid_area": null,
            "grid_auto_columns": null,
            "grid_auto_flow": null,
            "grid_auto_rows": null,
            "grid_column": null,
            "grid_gap": null,
            "grid_row": null,
            "grid_template_areas": null,
            "grid_template_columns": null,
            "grid_template_rows": null,
            "height": null,
            "justify_content": null,
            "justify_items": null,
            "left": null,
            "margin": null,
            "max_height": null,
            "max_width": null,
            "min_height": null,
            "min_width": null,
            "object_fit": null,
            "object_position": null,
            "order": null,
            "overflow": null,
            "overflow_x": null,
            "overflow_y": null,
            "padding": null,
            "right": null,
            "top": null,
            "visibility": null,
            "width": null
          }
        },
        "cbbf9f6224c24735b12d9bd73bc9074a": {
          "model_module": "@jupyter-widgets/controls",
          "model_name": "DescriptionStyleModel",
          "model_module_version": "1.5.0",
          "state": {
            "_model_module": "@jupyter-widgets/controls",
            "_model_module_version": "1.5.0",
            "_model_name": "DescriptionStyleModel",
            "_view_count": null,
            "_view_module": "@jupyter-widgets/base",
            "_view_module_version": "1.2.0",
            "_view_name": "StyleView",
            "description_width": ""
          }
        },
        "36257fa302644a67ad107b85b0af5cf8": {
          "model_module": "@jupyter-widgets/base",
          "model_name": "LayoutModel",
          "model_module_version": "1.2.0",
          "state": {
            "_model_module": "@jupyter-widgets/base",
            "_model_module_version": "1.2.0",
            "_model_name": "LayoutModel",
            "_view_count": null,
            "_view_module": "@jupyter-widgets/base",
            "_view_module_version": "1.2.0",
            "_view_name": "LayoutView",
            "align_content": null,
            "align_items": null,
            "align_self": null,
            "border": null,
            "bottom": null,
            "display": null,
            "flex": null,
            "flex_flow": null,
            "grid_area": null,
            "grid_auto_columns": null,
            "grid_auto_flow": null,
            "grid_auto_rows": null,
            "grid_column": null,
            "grid_gap": null,
            "grid_row": null,
            "grid_template_areas": null,
            "grid_template_columns": null,
            "grid_template_rows": null,
            "height": null,
            "justify_content": null,
            "justify_items": null,
            "left": null,
            "margin": null,
            "max_height": null,
            "max_width": null,
            "min_height": null,
            "min_width": null,
            "object_fit": null,
            "object_position": null,
            "order": null,
            "overflow": null,
            "overflow_x": null,
            "overflow_y": null,
            "padding": null,
            "right": null,
            "top": null,
            "visibility": null,
            "width": null
          }
        },
        "f9ba54d864324859901ee1f1792074b0": {
          "model_module": "@jupyter-widgets/controls",
          "model_name": "ProgressStyleModel",
          "model_module_version": "1.5.0",
          "state": {
            "_model_module": "@jupyter-widgets/controls",
            "_model_module_version": "1.5.0",
            "_model_name": "ProgressStyleModel",
            "_view_count": null,
            "_view_module": "@jupyter-widgets/base",
            "_view_module_version": "1.2.0",
            "_view_name": "StyleView",
            "bar_color": null,
            "description_width": ""
          }
        },
        "5d91b96c024841fda56bb7d2e46b53c1": {
          "model_module": "@jupyter-widgets/base",
          "model_name": "LayoutModel",
          "model_module_version": "1.2.0",
          "state": {
            "_model_module": "@jupyter-widgets/base",
            "_model_module_version": "1.2.0",
            "_model_name": "LayoutModel",
            "_view_count": null,
            "_view_module": "@jupyter-widgets/base",
            "_view_module_version": "1.2.0",
            "_view_name": "LayoutView",
            "align_content": null,
            "align_items": null,
            "align_self": null,
            "border": null,
            "bottom": null,
            "display": null,
            "flex": null,
            "flex_flow": null,
            "grid_area": null,
            "grid_auto_columns": null,
            "grid_auto_flow": null,
            "grid_auto_rows": null,
            "grid_column": null,
            "grid_gap": null,
            "grid_row": null,
            "grid_template_areas": null,
            "grid_template_columns": null,
            "grid_template_rows": null,
            "height": null,
            "justify_content": null,
            "justify_items": null,
            "left": null,
            "margin": null,
            "max_height": null,
            "max_width": null,
            "min_height": null,
            "min_width": null,
            "object_fit": null,
            "object_position": null,
            "order": null,
            "overflow": null,
            "overflow_x": null,
            "overflow_y": null,
            "padding": null,
            "right": null,
            "top": null,
            "visibility": null,
            "width": null
          }
        },
        "4752458f13814d0baed7fe1cfea79f1b": {
          "model_module": "@jupyter-widgets/controls",
          "model_name": "DescriptionStyleModel",
          "model_module_version": "1.5.0",
          "state": {
            "_model_module": "@jupyter-widgets/controls",
            "_model_module_version": "1.5.0",
            "_model_name": "DescriptionStyleModel",
            "_view_count": null,
            "_view_module": "@jupyter-widgets/base",
            "_view_module_version": "1.2.0",
            "_view_name": "StyleView",
            "description_width": ""
          }
        },
        "1e0dfb59f57f4820946287c2a85fc521": {
          "model_module": "@jupyter-widgets/controls",
          "model_name": "HBoxModel",
          "model_module_version": "1.5.0",
          "state": {
            "_dom_classes": [],
            "_model_module": "@jupyter-widgets/controls",
            "_model_module_version": "1.5.0",
            "_model_name": "HBoxModel",
            "_view_count": null,
            "_view_module": "@jupyter-widgets/controls",
            "_view_module_version": "1.5.0",
            "_view_name": "HBoxView",
            "box_style": "",
            "children": [
              "IPY_MODEL_683e360f99a345eabba97be19fe86197",
              "IPY_MODEL_494d7ecb340e45bb814de1579b160c7b",
              "IPY_MODEL_1ea2cdf65cd640a68a6a13854dfc5241"
            ],
            "layout": "IPY_MODEL_e7e555aaca7d49e18774265f43e66151"
          }
        },
        "683e360f99a345eabba97be19fe86197": {
          "model_module": "@jupyter-widgets/controls",
          "model_name": "HTMLModel",
          "model_module_version": "1.5.0",
          "state": {
            "_dom_classes": [],
            "_model_module": "@jupyter-widgets/controls",
            "_model_module_version": "1.5.0",
            "_model_name": "HTMLModel",
            "_view_count": null,
            "_view_module": "@jupyter-widgets/controls",
            "_view_module_version": "1.5.0",
            "_view_name": "HTMLView",
            "description": "",
            "description_tooltip": null,
            "layout": "IPY_MODEL_656a2117afd54b7b8c30096ef38db44f",
            "placeholder": "​",
            "style": "IPY_MODEL_7e0eef90d2be40e992f5d3c13b879abf",
            "value": "100%"
          }
        },
        "494d7ecb340e45bb814de1579b160c7b": {
          "model_module": "@jupyter-widgets/controls",
          "model_name": "FloatProgressModel",
          "model_module_version": "1.5.0",
          "state": {
            "_dom_classes": [],
            "_model_module": "@jupyter-widgets/controls",
            "_model_module_version": "1.5.0",
            "_model_name": "FloatProgressModel",
            "_view_count": null,
            "_view_module": "@jupyter-widgets/controls",
            "_view_module_version": "1.5.0",
            "_view_name": "ProgressView",
            "bar_style": "success",
            "description": "",
            "description_tooltip": null,
            "layout": "IPY_MODEL_3bc5fca3d1d24ced9b795b488e9af226",
            "max": 10,
            "min": 0,
            "orientation": "horizontal",
            "style": "IPY_MODEL_90fcf252c7c34af1b7088762b710705a",
            "value": 10
          }
        },
        "1ea2cdf65cd640a68a6a13854dfc5241": {
          "model_module": "@jupyter-widgets/controls",
          "model_name": "HTMLModel",
          "model_module_version": "1.5.0",
          "state": {
            "_dom_classes": [],
            "_model_module": "@jupyter-widgets/controls",
            "_model_module_version": "1.5.0",
            "_model_name": "HTMLModel",
            "_view_count": null,
            "_view_module": "@jupyter-widgets/controls",
            "_view_module_version": "1.5.0",
            "_view_name": "HTMLView",
            "description": "",
            "description_tooltip": null,
            "layout": "IPY_MODEL_ac7f1e96cfad4b7ca75143fb2167ae4c",
            "placeholder": "​",
            "style": "IPY_MODEL_d8a84db8bc8e415ebce1a8208447eae8",
            "value": " 10/10 [01:37&lt;00:00,  9.74s/epoch]"
          }
        },
        "e7e555aaca7d49e18774265f43e66151": {
          "model_module": "@jupyter-widgets/base",
          "model_name": "LayoutModel",
          "model_module_version": "1.2.0",
          "state": {
            "_model_module": "@jupyter-widgets/base",
            "_model_module_version": "1.2.0",
            "_model_name": "LayoutModel",
            "_view_count": null,
            "_view_module": "@jupyter-widgets/base",
            "_view_module_version": "1.2.0",
            "_view_name": "LayoutView",
            "align_content": null,
            "align_items": null,
            "align_self": null,
            "border": null,
            "bottom": null,
            "display": null,
            "flex": null,
            "flex_flow": null,
            "grid_area": null,
            "grid_auto_columns": null,
            "grid_auto_flow": null,
            "grid_auto_rows": null,
            "grid_column": null,
            "grid_gap": null,
            "grid_row": null,
            "grid_template_areas": null,
            "grid_template_columns": null,
            "grid_template_rows": null,
            "height": null,
            "justify_content": null,
            "justify_items": null,
            "left": null,
            "margin": null,
            "max_height": null,
            "max_width": null,
            "min_height": null,
            "min_width": null,
            "object_fit": null,
            "object_position": null,
            "order": null,
            "overflow": null,
            "overflow_x": null,
            "overflow_y": null,
            "padding": null,
            "right": null,
            "top": null,
            "visibility": null,
            "width": null
          }
        },
        "656a2117afd54b7b8c30096ef38db44f": {
          "model_module": "@jupyter-widgets/base",
          "model_name": "LayoutModel",
          "model_module_version": "1.2.0",
          "state": {
            "_model_module": "@jupyter-widgets/base",
            "_model_module_version": "1.2.0",
            "_model_name": "LayoutModel",
            "_view_count": null,
            "_view_module": "@jupyter-widgets/base",
            "_view_module_version": "1.2.0",
            "_view_name": "LayoutView",
            "align_content": null,
            "align_items": null,
            "align_self": null,
            "border": null,
            "bottom": null,
            "display": null,
            "flex": null,
            "flex_flow": null,
            "grid_area": null,
            "grid_auto_columns": null,
            "grid_auto_flow": null,
            "grid_auto_rows": null,
            "grid_column": null,
            "grid_gap": null,
            "grid_row": null,
            "grid_template_areas": null,
            "grid_template_columns": null,
            "grid_template_rows": null,
            "height": null,
            "justify_content": null,
            "justify_items": null,
            "left": null,
            "margin": null,
            "max_height": null,
            "max_width": null,
            "min_height": null,
            "min_width": null,
            "object_fit": null,
            "object_position": null,
            "order": null,
            "overflow": null,
            "overflow_x": null,
            "overflow_y": null,
            "padding": null,
            "right": null,
            "top": null,
            "visibility": null,
            "width": null
          }
        },
        "7e0eef90d2be40e992f5d3c13b879abf": {
          "model_module": "@jupyter-widgets/controls",
          "model_name": "DescriptionStyleModel",
          "model_module_version": "1.5.0",
          "state": {
            "_model_module": "@jupyter-widgets/controls",
            "_model_module_version": "1.5.0",
            "_model_name": "DescriptionStyleModel",
            "_view_count": null,
            "_view_module": "@jupyter-widgets/base",
            "_view_module_version": "1.2.0",
            "_view_name": "StyleView",
            "description_width": ""
          }
        },
        "3bc5fca3d1d24ced9b795b488e9af226": {
          "model_module": "@jupyter-widgets/base",
          "model_name": "LayoutModel",
          "model_module_version": "1.2.0",
          "state": {
            "_model_module": "@jupyter-widgets/base",
            "_model_module_version": "1.2.0",
            "_model_name": "LayoutModel",
            "_view_count": null,
            "_view_module": "@jupyter-widgets/base",
            "_view_module_version": "1.2.0",
            "_view_name": "LayoutView",
            "align_content": null,
            "align_items": null,
            "align_self": null,
            "border": null,
            "bottom": null,
            "display": null,
            "flex": null,
            "flex_flow": null,
            "grid_area": null,
            "grid_auto_columns": null,
            "grid_auto_flow": null,
            "grid_auto_rows": null,
            "grid_column": null,
            "grid_gap": null,
            "grid_row": null,
            "grid_template_areas": null,
            "grid_template_columns": null,
            "grid_template_rows": null,
            "height": null,
            "justify_content": null,
            "justify_items": null,
            "left": null,
            "margin": null,
            "max_height": null,
            "max_width": null,
            "min_height": null,
            "min_width": null,
            "object_fit": null,
            "object_position": null,
            "order": null,
            "overflow": null,
            "overflow_x": null,
            "overflow_y": null,
            "padding": null,
            "right": null,
            "top": null,
            "visibility": null,
            "width": null
          }
        },
        "90fcf252c7c34af1b7088762b710705a": {
          "model_module": "@jupyter-widgets/controls",
          "model_name": "ProgressStyleModel",
          "model_module_version": "1.5.0",
          "state": {
            "_model_module": "@jupyter-widgets/controls",
            "_model_module_version": "1.5.0",
            "_model_name": "ProgressStyleModel",
            "_view_count": null,
            "_view_module": "@jupyter-widgets/base",
            "_view_module_version": "1.2.0",
            "_view_name": "StyleView",
            "bar_color": null,
            "description_width": ""
          }
        },
        "ac7f1e96cfad4b7ca75143fb2167ae4c": {
          "model_module": "@jupyter-widgets/base",
          "model_name": "LayoutModel",
          "model_module_version": "1.2.0",
          "state": {
            "_model_module": "@jupyter-widgets/base",
            "_model_module_version": "1.2.0",
            "_model_name": "LayoutModel",
            "_view_count": null,
            "_view_module": "@jupyter-widgets/base",
            "_view_module_version": "1.2.0",
            "_view_name": "LayoutView",
            "align_content": null,
            "align_items": null,
            "align_self": null,
            "border": null,
            "bottom": null,
            "display": null,
            "flex": null,
            "flex_flow": null,
            "grid_area": null,
            "grid_auto_columns": null,
            "grid_auto_flow": null,
            "grid_auto_rows": null,
            "grid_column": null,
            "grid_gap": null,
            "grid_row": null,
            "grid_template_areas": null,
            "grid_template_columns": null,
            "grid_template_rows": null,
            "height": null,
            "justify_content": null,
            "justify_items": null,
            "left": null,
            "margin": null,
            "max_height": null,
            "max_width": null,
            "min_height": null,
            "min_width": null,
            "object_fit": null,
            "object_position": null,
            "order": null,
            "overflow": null,
            "overflow_x": null,
            "overflow_y": null,
            "padding": null,
            "right": null,
            "top": null,
            "visibility": null,
            "width": null
          }
        },
        "d8a84db8bc8e415ebce1a8208447eae8": {
          "model_module": "@jupyter-widgets/controls",
          "model_name": "DescriptionStyleModel",
          "model_module_version": "1.5.0",
          "state": {
            "_model_module": "@jupyter-widgets/controls",
            "_model_module_version": "1.5.0",
            "_model_name": "DescriptionStyleModel",
            "_view_count": null,
            "_view_module": "@jupyter-widgets/base",
            "_view_module_version": "1.2.0",
            "_view_name": "StyleView",
            "description_width": ""
          }
        },
        "0666d7433a1c4407ba70af3d373678fa": {
          "model_module": "@jupyter-widgets/controls",
          "model_name": "HBoxModel",
          "model_module_version": "1.5.0",
          "state": {
            "_dom_classes": [],
            "_model_module": "@jupyter-widgets/controls",
            "_model_module_version": "1.5.0",
            "_model_name": "HBoxModel",
            "_view_count": null,
            "_view_module": "@jupyter-widgets/controls",
            "_view_module_version": "1.5.0",
            "_view_name": "HBoxView",
            "box_style": "",
            "children": [
              "IPY_MODEL_667731850fdc470aa6447e548f3e175f",
              "IPY_MODEL_d6b9fac78d41477c98821c8b7561b4cb",
              "IPY_MODEL_22217d62d77e46d48f4806f746c5aeab"
            ],
            "layout": "IPY_MODEL_f41ad9bd856247a699d7df16cdbbf0d5"
          }
        },
        "667731850fdc470aa6447e548f3e175f": {
          "model_module": "@jupyter-widgets/controls",
          "model_name": "HTMLModel",
          "model_module_version": "1.5.0",
          "state": {
            "_dom_classes": [],
            "_model_module": "@jupyter-widgets/controls",
            "_model_module_version": "1.5.0",
            "_model_name": "HTMLModel",
            "_view_count": null,
            "_view_module": "@jupyter-widgets/controls",
            "_view_module_version": "1.5.0",
            "_view_name": "HTMLView",
            "description": "",
            "description_tooltip": null,
            "layout": "IPY_MODEL_f4c4eec2dd3a44548888f8b9e85ee5a7",
            "placeholder": "​",
            "style": "IPY_MODEL_732d591228be4412ab6f4ff46911baf0",
            "value": "100%"
          }
        },
        "d6b9fac78d41477c98821c8b7561b4cb": {
          "model_module": "@jupyter-widgets/controls",
          "model_name": "FloatProgressModel",
          "model_module_version": "1.5.0",
          "state": {
            "_dom_classes": [],
            "_model_module": "@jupyter-widgets/controls",
            "_model_module_version": "1.5.0",
            "_model_name": "FloatProgressModel",
            "_view_count": null,
            "_view_module": "@jupyter-widgets/controls",
            "_view_module_version": "1.5.0",
            "_view_name": "ProgressView",
            "bar_style": "success",
            "description": "",
            "description_tooltip": null,
            "layout": "IPY_MODEL_597dfe3118794ff188dcf1f55ca319a3",
            "max": 20,
            "min": 0,
            "orientation": "horizontal",
            "style": "IPY_MODEL_b6f45c64d5c949378e320e039d28554e",
            "value": 20
          }
        },
        "22217d62d77e46d48f4806f746c5aeab": {
          "model_module": "@jupyter-widgets/controls",
          "model_name": "HTMLModel",
          "model_module_version": "1.5.0",
          "state": {
            "_dom_classes": [],
            "_model_module": "@jupyter-widgets/controls",
            "_model_module_version": "1.5.0",
            "_model_name": "HTMLModel",
            "_view_count": null,
            "_view_module": "@jupyter-widgets/controls",
            "_view_module_version": "1.5.0",
            "_view_name": "HTMLView",
            "description": "",
            "description_tooltip": null,
            "layout": "IPY_MODEL_48c50b66d2ca4d159df38d8219f60f16",
            "placeholder": "​",
            "style": "IPY_MODEL_02f8d039571f4c8f8725ab0c913cefe8",
            "value": " 20/20 [02:29&lt;00:00,  7.56s/epoch]"
          }
        },
        "f41ad9bd856247a699d7df16cdbbf0d5": {
          "model_module": "@jupyter-widgets/base",
          "model_name": "LayoutModel",
          "model_module_version": "1.2.0",
          "state": {
            "_model_module": "@jupyter-widgets/base",
            "_model_module_version": "1.2.0",
            "_model_name": "LayoutModel",
            "_view_count": null,
            "_view_module": "@jupyter-widgets/base",
            "_view_module_version": "1.2.0",
            "_view_name": "LayoutView",
            "align_content": null,
            "align_items": null,
            "align_self": null,
            "border": null,
            "bottom": null,
            "display": null,
            "flex": null,
            "flex_flow": null,
            "grid_area": null,
            "grid_auto_columns": null,
            "grid_auto_flow": null,
            "grid_auto_rows": null,
            "grid_column": null,
            "grid_gap": null,
            "grid_row": null,
            "grid_template_areas": null,
            "grid_template_columns": null,
            "grid_template_rows": null,
            "height": null,
            "justify_content": null,
            "justify_items": null,
            "left": null,
            "margin": null,
            "max_height": null,
            "max_width": null,
            "min_height": null,
            "min_width": null,
            "object_fit": null,
            "object_position": null,
            "order": null,
            "overflow": null,
            "overflow_x": null,
            "overflow_y": null,
            "padding": null,
            "right": null,
            "top": null,
            "visibility": null,
            "width": null
          }
        },
        "f4c4eec2dd3a44548888f8b9e85ee5a7": {
          "model_module": "@jupyter-widgets/base",
          "model_name": "LayoutModel",
          "model_module_version": "1.2.0",
          "state": {
            "_model_module": "@jupyter-widgets/base",
            "_model_module_version": "1.2.0",
            "_model_name": "LayoutModel",
            "_view_count": null,
            "_view_module": "@jupyter-widgets/base",
            "_view_module_version": "1.2.0",
            "_view_name": "LayoutView",
            "align_content": null,
            "align_items": null,
            "align_self": null,
            "border": null,
            "bottom": null,
            "display": null,
            "flex": null,
            "flex_flow": null,
            "grid_area": null,
            "grid_auto_columns": null,
            "grid_auto_flow": null,
            "grid_auto_rows": null,
            "grid_column": null,
            "grid_gap": null,
            "grid_row": null,
            "grid_template_areas": null,
            "grid_template_columns": null,
            "grid_template_rows": null,
            "height": null,
            "justify_content": null,
            "justify_items": null,
            "left": null,
            "margin": null,
            "max_height": null,
            "max_width": null,
            "min_height": null,
            "min_width": null,
            "object_fit": null,
            "object_position": null,
            "order": null,
            "overflow": null,
            "overflow_x": null,
            "overflow_y": null,
            "padding": null,
            "right": null,
            "top": null,
            "visibility": null,
            "width": null
          }
        },
        "732d591228be4412ab6f4ff46911baf0": {
          "model_module": "@jupyter-widgets/controls",
          "model_name": "DescriptionStyleModel",
          "model_module_version": "1.5.0",
          "state": {
            "_model_module": "@jupyter-widgets/controls",
            "_model_module_version": "1.5.0",
            "_model_name": "DescriptionStyleModel",
            "_view_count": null,
            "_view_module": "@jupyter-widgets/base",
            "_view_module_version": "1.2.0",
            "_view_name": "StyleView",
            "description_width": ""
          }
        },
        "597dfe3118794ff188dcf1f55ca319a3": {
          "model_module": "@jupyter-widgets/base",
          "model_name": "LayoutModel",
          "model_module_version": "1.2.0",
          "state": {
            "_model_module": "@jupyter-widgets/base",
            "_model_module_version": "1.2.0",
            "_model_name": "LayoutModel",
            "_view_count": null,
            "_view_module": "@jupyter-widgets/base",
            "_view_module_version": "1.2.0",
            "_view_name": "LayoutView",
            "align_content": null,
            "align_items": null,
            "align_self": null,
            "border": null,
            "bottom": null,
            "display": null,
            "flex": null,
            "flex_flow": null,
            "grid_area": null,
            "grid_auto_columns": null,
            "grid_auto_flow": null,
            "grid_auto_rows": null,
            "grid_column": null,
            "grid_gap": null,
            "grid_row": null,
            "grid_template_areas": null,
            "grid_template_columns": null,
            "grid_template_rows": null,
            "height": null,
            "justify_content": null,
            "justify_items": null,
            "left": null,
            "margin": null,
            "max_height": null,
            "max_width": null,
            "min_height": null,
            "min_width": null,
            "object_fit": null,
            "object_position": null,
            "order": null,
            "overflow": null,
            "overflow_x": null,
            "overflow_y": null,
            "padding": null,
            "right": null,
            "top": null,
            "visibility": null,
            "width": null
          }
        },
        "b6f45c64d5c949378e320e039d28554e": {
          "model_module": "@jupyter-widgets/controls",
          "model_name": "ProgressStyleModel",
          "model_module_version": "1.5.0",
          "state": {
            "_model_module": "@jupyter-widgets/controls",
            "_model_module_version": "1.5.0",
            "_model_name": "ProgressStyleModel",
            "_view_count": null,
            "_view_module": "@jupyter-widgets/base",
            "_view_module_version": "1.2.0",
            "_view_name": "StyleView",
            "bar_color": null,
            "description_width": ""
          }
        },
        "48c50b66d2ca4d159df38d8219f60f16": {
          "model_module": "@jupyter-widgets/base",
          "model_name": "LayoutModel",
          "model_module_version": "1.2.0",
          "state": {
            "_model_module": "@jupyter-widgets/base",
            "_model_module_version": "1.2.0",
            "_model_name": "LayoutModel",
            "_view_count": null,
            "_view_module": "@jupyter-widgets/base",
            "_view_module_version": "1.2.0",
            "_view_name": "LayoutView",
            "align_content": null,
            "align_items": null,
            "align_self": null,
            "border": null,
            "bottom": null,
            "display": null,
            "flex": null,
            "flex_flow": null,
            "grid_area": null,
            "grid_auto_columns": null,
            "grid_auto_flow": null,
            "grid_auto_rows": null,
            "grid_column": null,
            "grid_gap": null,
            "grid_row": null,
            "grid_template_areas": null,
            "grid_template_columns": null,
            "grid_template_rows": null,
            "height": null,
            "justify_content": null,
            "justify_items": null,
            "left": null,
            "margin": null,
            "max_height": null,
            "max_width": null,
            "min_height": null,
            "min_width": null,
            "object_fit": null,
            "object_position": null,
            "order": null,
            "overflow": null,
            "overflow_x": null,
            "overflow_y": null,
            "padding": null,
            "right": null,
            "top": null,
            "visibility": null,
            "width": null
          }
        },
        "02f8d039571f4c8f8725ab0c913cefe8": {
          "model_module": "@jupyter-widgets/controls",
          "model_name": "DescriptionStyleModel",
          "model_module_version": "1.5.0",
          "state": {
            "_model_module": "@jupyter-widgets/controls",
            "_model_module_version": "1.5.0",
            "_model_name": "DescriptionStyleModel",
            "_view_count": null,
            "_view_module": "@jupyter-widgets/base",
            "_view_module_version": "1.2.0",
            "_view_name": "StyleView",
            "description_width": ""
          }
        }
      }
    }
  },
  "nbformat": 4,
  "nbformat_minor": 0
}